{
  "nbformat": 4,
  "nbformat_minor": 5,
  "metadata": {
    "kernelspec": {
      "display_name": "Python 3",
      "language": "python",
      "name": "python3"
    },
    "language_info": {
      "codemirror_mode": {
        "name": "ipython",
        "version": 3
      },
      "file_extension": ".py",
      "mimetype": "text/x-python",
      "name": "python",
      "nbconvert_exporter": "python",
      "pygments_lexer": "ipython3",
      "version": "3.8.2"
    },
    "colab": {
      "name": "NB3.1 K Nearest Neighbor.ipynb",
      "provenance": [],
      "collapsed_sections": []
    }
  },
  "cells": [
    {
      "cell_type": "markdown",
      "metadata": {
        "id": "following-vancouver"
      },
      "source": [
        "# NB3.1 K Nearest Neighbors\n",
        "\n",
        "K Nearest Neighbors (KNN) is a machine learning algorithm which uses the training dataset directly to make predictions.\n",
        "\n",
        "In order to make prediction for new data points, KNN identifies the *k* most similar instances from the entire training set and summarizes the output variable for those *k* instances.\n",
        "\n",
        "In classification, the predicted value is deternined by the majority class (mode) of the *k* most similar instances. For regression, it could be the mean of the output varible or a weighted mean where each neighbor contributes based on how close is to the new data point.\n",
        "\n",
        "**NB3.1 K Nearest Neighbors** is divided in two sections:\n",
        "* KNN Classifier. In this section you will implement KNN as classifier and use it to classify flowers from the Iris Dataset. \n",
        "* KNN Regresor. In this section you use the scikit-learn implementation of KNN as regressor to predict the value of Boston houses from the Boston House Pricing Dataset. \n",
        "\n",
        "Additionally, you will learn how to use the scikit-learn implementation of the algorithm.\n",
        "\n",
        "## KNN Classifier\n",
        "\n",
        "### A. Implementation\n",
        "\n",
        "The implementation of the KNN Classifier of this activity will be done by using an Object Oriented Programming style. Consider the following structure:"
      ],
      "id": "following-vancouver"
    },
    {
      "cell_type": "code",
      "metadata": {
        "id": "crucial-iraqi"
      },
      "source": [
        "import numpy as np\n",
        "import pandas as pd\n",
        "import matplotlib.pyplot as plt\n",
        "\n",
        "from sklearn import datasets"
      ],
      "id": "crucial-iraqi",
      "execution_count": null,
      "outputs": []
    },
    {
      "cell_type": "code",
      "metadata": {
        "id": "sensitive-royal"
      },
      "source": [
        "class KNNClassifier:\n",
        "    \"\"\"\n",
        "    <Include the description of the class here>\n",
        "    \n",
        "    Parameters:\n",
        "    <Include the description of class parameters here>          \n",
        "    \n",
        "    \n",
        "    Attributes:\n",
        "    <Include the description of class attributes here>\n",
        "    \n",
        "    \"\"\"\n",
        "    def __init__(self, k = 3, distance = 'euclidean'):\n",
        "        \"\"\"\n",
        "        <Include the description of the function here>\n",
        "        \n",
        "        Input:\n",
        "        <Include the inputs of the function here>\n",
        "        \n",
        "        Output:\n",
        "        <Include the outputs of the function here>\n",
        "        \"\"\"\n",
        "        \n",
        "        self.k = k\n",
        "        self.distance = distance\n",
        "        self.Xdata = None\n",
        "        self.Ydata = None\n",
        "    \n",
        "    \n",
        "    def fit(self, XTrain, YTrain):\n",
        "        \"\"\"\n",
        "        <Include the description of the function here>\n",
        "        \n",
        "        Input:\n",
        "        <Include the inputs of the function here>\n",
        "        \n",
        "        Output:\n",
        "        <Include the outputs of the function here>\n",
        "        \"\"\"\n",
        "        # this will assume the data is in numpy arrays\n",
        "        self.Xdata = XTrain\n",
        "        self.Ydata = YTrain\n",
        "    \n",
        "    def predict(self, XTest):\n",
        "        \"\"\"\n",
        "        <Include the description of the function here>\n",
        "        \n",
        "        Input:\n",
        "        <Include the inputs of the function here>\n",
        "        \n",
        "        Output:\n",
        "        <Include the outputs of the function here>\n",
        "        \"\"\"\n",
        "        # Your code should be here\n",
        "        predicted_values=np.zeros((XTest.shape[0], 1))\n",
        "\n",
        "        for i, Xrow in enumerate(XTest):\n",
        "            Xrow = Xrow\n",
        "            indexes = self._getNeighbors(Xrow) # Obtener los indices\n",
        "            target_values = np.take(self.Ydata, indexes) # Take the elements corresponding to those indices\n",
        "            prediction = np.bincount(target_values).argmax() # Contar y elegir el target mas frecuente\n",
        "            predicted_values[i] = prediction\n",
        "            \n",
        "        return predicted_values # array de predicciones # array shape (n, )\n",
        "\n",
        "\n",
        "    def _getNeighbors(self, Xrow):\n",
        "        \"\"\"\n",
        "        <Compute the distance of Xrow to Xdata and gets their K nearest indexes>\n",
        "        \n",
        "        Input:\n",
        "        <Xrow> A vector of shape (n, )\n",
        "        \n",
        "        Output:\n",
        "        <K nearest indexes of Xdata to Xrow as an array>\n",
        "        \"\"\"\n",
        "        # Compute distance\n",
        "        if self.distance == 'euclidean':\n",
        "          arr = self._EuclideanDistance(self.Xdata, Xrow)\n",
        "        elif self.distance == 'manhattan':\n",
        "          arr = self._ManhattanDistance(self.Xdata, Xrow)\n",
        "        elif self.distance == 'chebyshev':\n",
        "          arr = self._ChebyshevDistance(self.Xdata, Xrow)\n",
        "        elif self.distance == 'cosine':\n",
        "          arr = self._CosineSimilarity(self.Xdata, Xrow)\n",
        "        else:\n",
        "          return 'Enter a valid distance'\n",
        "\n",
        "        # Get the smallest self.k indexes to Xrow \n",
        "        smallest_indexes = np.argpartition(arr,self.k)[:self.k] \n",
        "\n",
        "        return smallest_indexes # array shape (n, )\n",
        "    \n",
        "    def _EuclideanDistance(self, Xrow1, Xrow2):        \n",
        "        \"\"\"\n",
        "        <L2 norm of a matrix of vectors>\n",
        "              \n",
        "        Input:\n",
        "        <Xrow1> A matrix of X vectors\n",
        "        <Xrow2> A vector\n",
        "              \n",
        "        Output:\n",
        "        <Euclidean distance array> \n",
        "        \"\"\"\n",
        "        Xrow2 = Xrow2.reshape(1, -1)\n",
        "        return np.linalg.norm(Xrow1 - Xrow2, axis=1, ord=2) # array shape (n, )\n",
        "    \n",
        "    def _ManhattanDistance(self, Xrow1, Xrow2):        \n",
        "        \"\"\"\n",
        "        <L1 norm of a matrix of vectors>\n",
        "              \n",
        "        Input:\n",
        "        <Xrow1> A matrix of X vectors\n",
        "        <Xrow2> A vector\n",
        "              \n",
        "        Output:\n",
        "        <Manhattan distance array> \n",
        "        \"\"\"\n",
        "        Xrow2 = Xrow2.reshape(1, -1)\n",
        "        return np.linalg.norm(Xrow1 - Xrow2, axis=1, ord=1) # array shape (n, )\n",
        "    \n",
        "    def _ChebyshevDistance(self, Xrow1, Xrow2):        \n",
        "        \"\"\"\n",
        "        <Inf norm of a matrix of vectors>\n",
        "              \n",
        "        Input:\n",
        "        <Xrow1> A matrix of X vectors\n",
        "        <Xrow2> A vector\n",
        "              \n",
        "        Output:\n",
        "        <Chebyshev distance array>\n",
        "        \"\"\"\n",
        "        # Your code should be here\n",
        "        Xrow2 = Xrow2.reshape(1, -1)\n",
        "        return np.linalg.norm(Xrow1 - Xrow2, axis=1, ord=np.inf) # array shape (n, )\n",
        "\n",
        "    def _CosineSimilarity(self, Xrow1, Xrow2):        \n",
        "        \"\"\"\n",
        "        <Inner product of the same vectors normalized to both have length>\n",
        "        \n",
        "        Input:\n",
        "        <Xrow1> A matrix of X vectors\n",
        "        <Xrow2> A vector\n",
        "        \n",
        "        Output:\n",
        "        <CosineSimilarity distance array>\n",
        "        \"\"\"\n",
        "\n",
        "        # Your code should be here\n",
        "        Xrow2 = Xrow2.reshape(1, -1)\n",
        "        return (np.dot(Xrow1, Xrow2.reshape(-1, 1)) / # numerator A.B\n",
        "                (np.linalg.norm(Xrow1, axis=1).reshape(-1,1)*np.linalg.norm(Xrow2, axis=1))) # denominator ||A|||B|| # array shape (n, )\n",
        "\n",
        "    def _HammingDistance(self, Xrow1, Xrow2):        \n",
        "        \"\"\"\n",
        "        <Hamming distance of a matrix of vectors>\n",
        "        \n",
        "        Input:\n",
        "        <Xrow1> A matrix of X vectors\n",
        "        <Xrow2> A vector\n",
        "\n",
        "        Output:\n",
        "        <HammingDistance distance array>\n",
        "        \"\"\"\n",
        "        # Your code should be here\n",
        "        return np.count_nonzero(Xrow1!=Xrow2, axis=1).len(Xrow2)\n",
        "\n",
        "        "
      ],
      "id": "sensitive-royal",
      "execution_count": null,
      "outputs": []
    },
    {
      "cell_type": "markdown",
      "metadata": {
        "id": "adopted-interpretation"
      },
      "source": [
        "Complete the following task by implementing the functions. You can create \"private\" methods and attributes.\n",
        "\n",
        "**T1.** Complete the function `KNNClassifier.fit(self, XTrain, YTrain)`. The function should `XTrain` and `YTrain` into `self.XData` and `self.YData`, respectively. The function should not return any value.\n",
        "\n",
        "**T2.** Complete the following functions which compute the distance metrics between two instances (`Xrow1`, `Xrow2`) by different approaches:\n",
        "* `_EuclideanDistance(self, Xrow1, Xrow2` which computes the euclidean distance between Xrow1 and Xrow2.\n",
        "* `_ManhattanDistance(self, Xrow1, Xrow2)` which computes the manhattan distance between Xrow1 and Xrow2.\n",
        "* `_ChebyshevDistance(self, Xrow1, Xrow2)` which computes the chebishev distance between Xrow1 and Xrow2.\n",
        "* `_CosineSimilarity(self, Xrow1, Xrow2)` which computes the cosine similarity between Xrow1 and Xrow2.\n",
        "* `_HammingDistance(self, Xrow1, Xrow2)`which computes the hamming distance between Xrow1 and Xrow2.\n",
        "\n",
        "**T3.** Complete the function `_getNeighbors(self, Xrow)` which should return the index of the `self.k` nearest neighbors to `Xrow`given the `self.distance` metric. Select the appropiate distance metric function to be used given the `self.distance`. Consider the following values: 'euclidean', 'manhattan', 'chebyshev', 'cosine', 'hamming'.\n",
        "\n",
        "**T4.** Complete the function `predict(self, XTest)` which should return the predicted values for all instances in `XTest` according to `self.k` and `self.distance`.\n",
        "\n",
        "### B. Iris Data\n",
        "\n",
        "The Iris Dataset is one of the most known in the literature. This dataset has 50 instances of three different types of the plant Iris: Iris Versicolor, Iris Setosa and Iris Virginica (Fig. 1).\n",
        "\n",
        "![IrisPlanta](./Images/Iris1.png)\n",
        "*Figure 1. There are three types of the plant Iris: Versicolor, Setosa y Virginica. Image retrieved from [[1](https://www.datacamp.com/community/tutorials/machine-learning-in-r)]*\n",
        "\n",
        "The attributes in the dataset are the length and width of the petal and sepal (Fig. 2).\n",
        "\n",
        "![IrisPlanta](./Images/Iris2.png)\n",
        "*Figura 2. Attributes in the Iris Dataset. Image R'retrieved from [[2](https://bishwamittra.github.io/imli.html)]*\n",
        "\n",
        "The common goal is to predict the type of plant based on the features. One of the classes is linearly separable but the rest are not [[3](https://archive.ics.uci.edu/ml/datasets/iris)]."
      ],
      "id": "adopted-interpretation"
    },
    {
      "cell_type": "code",
      "metadata": {
        "id": "chubby-surge"
      },
      "source": [
        "iris = datasets.load_iris()\n",
        "irisDF = pd.DataFrame(iris.data, columns=iris.feature_names)\n",
        "irisDF[\"target\"] = iris.target"
      ],
      "id": "chubby-surge",
      "execution_count": null,
      "outputs": []
    },
    {
      "cell_type": "code",
      "metadata": {
        "id": "eligible-warrant",
        "colab": {
          "base_uri": "https://localhost:8080/",
          "height": 202
        },
        "outputId": "b93ca4c3-34ae-44df-8cbc-56568c716d82"
      },
      "source": [
        "irisDF.head()"
      ],
      "id": "eligible-warrant",
      "execution_count": null,
      "outputs": [
        {
          "output_type": "execute_result",
          "data": {
            "text/html": [
              "<div>\n",
              "<style scoped>\n",
              "    .dataframe tbody tr th:only-of-type {\n",
              "        vertical-align: middle;\n",
              "    }\n",
              "\n",
              "    .dataframe tbody tr th {\n",
              "        vertical-align: top;\n",
              "    }\n",
              "\n",
              "    .dataframe thead th {\n",
              "        text-align: right;\n",
              "    }\n",
              "</style>\n",
              "<table border=\"1\" class=\"dataframe\">\n",
              "  <thead>\n",
              "    <tr style=\"text-align: right;\">\n",
              "      <th></th>\n",
              "      <th>sepal length (cm)</th>\n",
              "      <th>sepal width (cm)</th>\n",
              "      <th>petal length (cm)</th>\n",
              "      <th>petal width (cm)</th>\n",
              "      <th>target</th>\n",
              "    </tr>\n",
              "  </thead>\n",
              "  <tbody>\n",
              "    <tr>\n",
              "      <th>0</th>\n",
              "      <td>5.1</td>\n",
              "      <td>3.5</td>\n",
              "      <td>1.4</td>\n",
              "      <td>0.2</td>\n",
              "      <td>0</td>\n",
              "    </tr>\n",
              "    <tr>\n",
              "      <th>1</th>\n",
              "      <td>4.9</td>\n",
              "      <td>3.0</td>\n",
              "      <td>1.4</td>\n",
              "      <td>0.2</td>\n",
              "      <td>0</td>\n",
              "    </tr>\n",
              "    <tr>\n",
              "      <th>2</th>\n",
              "      <td>4.7</td>\n",
              "      <td>3.2</td>\n",
              "      <td>1.3</td>\n",
              "      <td>0.2</td>\n",
              "      <td>0</td>\n",
              "    </tr>\n",
              "    <tr>\n",
              "      <th>3</th>\n",
              "      <td>4.6</td>\n",
              "      <td>3.1</td>\n",
              "      <td>1.5</td>\n",
              "      <td>0.2</td>\n",
              "      <td>0</td>\n",
              "    </tr>\n",
              "    <tr>\n",
              "      <th>4</th>\n",
              "      <td>5.0</td>\n",
              "      <td>3.6</td>\n",
              "      <td>1.4</td>\n",
              "      <td>0.2</td>\n",
              "      <td>0</td>\n",
              "    </tr>\n",
              "  </tbody>\n",
              "</table>\n",
              "</div>"
            ],
            "text/plain": [
              "   sepal length (cm)  sepal width (cm)  ...  petal width (cm)  target\n",
              "0                5.1               3.5  ...               0.2       0\n",
              "1                4.9               3.0  ...               0.2       0\n",
              "2                4.7               3.2  ...               0.2       0\n",
              "3                4.6               3.1  ...               0.2       0\n",
              "4                5.0               3.6  ...               0.2       0\n",
              "\n",
              "[5 rows x 5 columns]"
            ]
          },
          "metadata": {
            "tags": []
          },
          "execution_count": 4
        }
      ]
    },
    {
      "cell_type": "markdown",
      "metadata": {
        "id": "pregnant-training"
      },
      "source": [
        "**T5.** In order to validate the implementation in *Part A*, some preprocessing steps are needed to improve the performance of the KNN Model. Complete the following.\n",
        "* Use the StandardScaler (`sklearn.preprocessing.StandardScaler`) to standardize the features.\n",
        "* Perform a stratified split of data (70% Train and 30% Test) into a Train and Test set. You can use `sklearn.model_selection.train_test_split`. Do not forget to set correctly the parameter `stratify`. You should split the data in a stratified way, using the target variable."
      ],
      "id": "pregnant-training"
    },
    {
      "cell_type": "code",
      "metadata": {
        "id": "r7N6AhvO5yL_"
      },
      "source": [
        "import sklearn\n",
        "from sklearn.preprocessing import StandardScaler\n",
        "from sklearn.model_selection import train_test_split"
      ],
      "id": "r7N6AhvO5yL_",
      "execution_count": null,
      "outputs": []
    },
    {
      "cell_type": "code",
      "metadata": {
        "id": "several-costs"
      },
      "source": [
        "# divide the data in training and testing sets\n",
        "data_train, data_test, target_train, target_test = train_test_split(irisDF[iris.feature_names], \n",
        "                                                                    irisDF['target'].to_numpy(), \n",
        "                                                                    test_size=0.3, \n",
        "                                                                    stratify=irisDF['target'],\n",
        "                                                                    random_state=0)\n",
        "scaler = StandardScaler()\n",
        "# fit the scaler to the training test only to avoid data leakage\n",
        "scaler.fit(data_train)\n",
        "# transform the data with the scaler\n",
        "data_train = scaler.transform(data_train)\n",
        "data_test = scaler.transform(data_test)"
      ],
      "id": "several-costs",
      "execution_count": null,
      "outputs": []
    },
    {
      "cell_type": "markdown",
      "metadata": {
        "id": "bearing-chart"
      },
      "source": [
        "**T6.** Complete the following:\n",
        "* Create a `KNNClassifier` with `k = 5` and `distance = 'euclidean'`.\n",
        "* Fit the model with the trainning set.\n",
        "* Predict the values of the test set.\n",
        "* Create a new dataframe with the following columns: *y_real* and *y_predicted* for the test set."
      ],
      "id": "bearing-chart"
    },
    {
      "cell_type": "code",
      "metadata": {
        "id": "innovative-airline"
      },
      "source": [
        "knn_c = KNNClassifier(k=5, distance='euclidean')"
      ],
      "id": "innovative-airline",
      "execution_count": null,
      "outputs": []
    },
    {
      "cell_type": "code",
      "metadata": {
        "id": "8PXhlxSviUni"
      },
      "source": [
        "knn_c.fit(data_train, target_train)"
      ],
      "id": "8PXhlxSviUni",
      "execution_count": null,
      "outputs": []
    },
    {
      "cell_type": "code",
      "metadata": {
        "id": "WkBi4oU-2UuY"
      },
      "source": [
        "new_dataframe = pd.DataFrame()\n",
        "new_dataframe['y_real'] = target_test\n",
        "new_dataframe['y_predicted'] = knn_c.predict(data_test)"
      ],
      "id": "WkBi4oU-2UuY",
      "execution_count": null,
      "outputs": []
    },
    {
      "cell_type": "code",
      "metadata": {
        "colab": {
          "base_uri": "https://localhost:8080/",
          "height": 202
        },
        "id": "aXUOxcG22o7W",
        "outputId": "f4cb1320-270a-40b6-9cdd-eab4d38809b6"
      },
      "source": [
        "new_dataframe.head()"
      ],
      "id": "aXUOxcG22o7W",
      "execution_count": null,
      "outputs": [
        {
          "output_type": "execute_result",
          "data": {
            "text/html": [
              "<div>\n",
              "<style scoped>\n",
              "    .dataframe tbody tr th:only-of-type {\n",
              "        vertical-align: middle;\n",
              "    }\n",
              "\n",
              "    .dataframe tbody tr th {\n",
              "        vertical-align: top;\n",
              "    }\n",
              "\n",
              "    .dataframe thead th {\n",
              "        text-align: right;\n",
              "    }\n",
              "</style>\n",
              "<table border=\"1\" class=\"dataframe\">\n",
              "  <thead>\n",
              "    <tr style=\"text-align: right;\">\n",
              "      <th></th>\n",
              "      <th>y_real</th>\n",
              "      <th>y_predicted</th>\n",
              "    </tr>\n",
              "  </thead>\n",
              "  <tbody>\n",
              "    <tr>\n",
              "      <th>0</th>\n",
              "      <td>2</td>\n",
              "      <td>2.0</td>\n",
              "    </tr>\n",
              "    <tr>\n",
              "      <th>1</th>\n",
              "      <td>2</td>\n",
              "      <td>2.0</td>\n",
              "    </tr>\n",
              "    <tr>\n",
              "      <th>2</th>\n",
              "      <td>0</td>\n",
              "      <td>0.0</td>\n",
              "    </tr>\n",
              "    <tr>\n",
              "      <th>3</th>\n",
              "      <td>0</td>\n",
              "      <td>0.0</td>\n",
              "    </tr>\n",
              "    <tr>\n",
              "      <th>4</th>\n",
              "      <td>1</td>\n",
              "      <td>1.0</td>\n",
              "    </tr>\n",
              "  </tbody>\n",
              "</table>\n",
              "</div>"
            ],
            "text/plain": [
              "   y_real  y_predicted\n",
              "0       2          2.0\n",
              "1       2          2.0\n",
              "2       0          0.0\n",
              "3       0          0.0\n",
              "4       1          1.0"
            ]
          },
          "metadata": {
            "tags": []
          },
          "execution_count": 10
        }
      ]
    },
    {
      "cell_type": "markdown",
      "metadata": {
        "id": "incomplete-piano"
      },
      "source": [
        "The confusion matrix is one of the most common tools for the evaluation of classification models.\n",
        "\n",
        "**T7.** Implement the functions `ConfusionMatrix(y_real, y_predicted)` and `Accuracy(y_real, y_predicted)`. The first function should return the confusion matrix given the predicted and real values of the target variable. The second function should return the accuracy given the predicted and real values of the target variable. Use your functions to evaluate the model obtained in **T6**."
      ],
      "id": "incomplete-piano"
    },
    {
      "cell_type": "code",
      "metadata": {
        "id": "quarterly-williams"
      },
      "source": [
        "def ConfusionMatrix(y_real, y_predicted):\n",
        "    \"\"\"    \n",
        "    <Also known as an error matrix, is a specific table layout that allows \n",
        "    visualization of the performance of an algorithm.>\n",
        "\n",
        "    Input:\n",
        "    <y_real is a pd.series or a np.array corresponding to the true values>\n",
        "    <y_predicted is a pd.series or a np.array corresponding to the predicted values>  \n",
        "    \n",
        "    Output:\n",
        "    <pd.DataFrame corresponding to the confusion matrix>\n",
        "    \"\"\"\n",
        "    return pd.crosstab(y_real, y_predicted)"
      ],
      "id": "quarterly-williams",
      "execution_count": null,
      "outputs": []
    },
    {
      "cell_type": "code",
      "metadata": {
        "id": "about-little"
      },
      "source": [
        "def Accuracy(y_real, y_predicted):\n",
        "    \"\"\"    \n",
        "    <Is closeness of the measurements to a specific value,\n",
        "    (true positives + true negatives) / number of instances>\n",
        "        \n",
        "    Input:\n",
        "    <y_real is a pd.series or a np.array corresponding to the true values>\n",
        "    <y_predicted is a pd.series or a np.array corresponding to the predicted values>\n",
        "\n",
        "    Output:\n",
        "    <float corresponding to the value of accuracy>\n",
        "    \"\"\"\n",
        "    confusion_matrix = ConfusionMatrix(y_real, y_predicted).to_numpy()\n",
        "    trues_sum = np.diag(confusion_matrix).sum()\n",
        "    return trues_sum / len(y_real)"
      ],
      "id": "about-little",
      "execution_count": null,
      "outputs": []
    },
    {
      "cell_type": "markdown",
      "metadata": {
        "id": "sufficient-hostel"
      },
      "source": [
        "**T8.** Make a plot of the *accuracy* as a function of k for different KNN models (k = [1,10]). Which is the most appropiate value of k?"
      ],
      "id": "sufficient-hostel"
    },
    {
      "cell_type": "code",
      "metadata": {
        "colab": {
          "base_uri": "https://localhost:8080/",
          "height": 421
        },
        "id": "8wZD0L6Gdcbo",
        "outputId": "f8ae9895-7e6b-42fd-966e-893e0d371ae3"
      },
      "source": [
        "acc = []\n",
        "for i in range(1,11):\n",
        "    neigh = KNNClassifier(k=i)\n",
        "    neigh.fit(data_train, target_train)\n",
        "    yhat = neigh.predict(data_test)\n",
        "    acc.append(Accuracy(target_test, yhat.reshape(-1)))\n",
        "    #print(ConfusionMatrix(target_test, yhat.reshape(-1)).values)\n",
        "    \n",
        "plt.figure(figsize=(10,6))\n",
        "plt.plot(range(1,11),acc,color = 'blue',linestyle='dashed', \n",
        "         marker='o',markerfacecolor='red', markersize=10)\n",
        "plt.title('accuracy vs. K Value')\n",
        "plt.xlabel('K')\n",
        "plt.ylabel('Accuracy')\n",
        "print(\"Maximum accuracy: \",max(acc),\"at K =\",acc.index(max(acc))+1)"
      ],
      "id": "8wZD0L6Gdcbo",
      "execution_count": null,
      "outputs": [
        {
          "output_type": "stream",
          "text": [
            "Maximum accuracy:  0.9777777777777777 at K = 3\n"
          ],
          "name": "stdout"
        },
        {
          "output_type": "display_data",
          "data": {
            "image/png": "[encoded data removed]",
            "text/plain": [
              "<Figure size 720x432 with 1 Axes>"
            ]
          },
          "metadata": {
            "tags": [],
            "needs_background": "light"
          }
        }
      ]
    },
    {
      "cell_type": "markdown",
      "metadata": {
        "id": "particular-nickname"
      },
      "source": [
        "### C. Scikit-Learn KNNClassifier\n",
        "\n",
        "Scikit-Learns implements a KNNClassifier Model [[4](https://scikit-learn.org/stable/modules/generated/sklearn.neighbors.KNeighborsClassifier.html#sklearn.neighbors.KNeighborsClassifier)] which learning is based on the *k* nearest neighbors of each query point, where *k* is an integer value to be specified by the user.\n",
        "\n",
        "Here are some interesting parameters to consider during modelling creation:\n",
        "* n_neighbors: Number of neighbors to use.\n",
        "* weights: {'uniform', 'distance'}: Weight function used in prediction. Observe that when 'distance' is used, weight points by the inverse of their distance.\n",
        "* algorithm: Algorithm used to compute the nearest neighbors. In the *part A*, it is probable that you implemented a brute-force search. \n",
        "\n",
        "**T9.** Complete the following modelling steps by using the datasets created in **T5** (`data_train`, `data_test`, `target_train`, `target_test`):\n",
        "* Create a KNeighborsClassifier Model with 5 number of neighbors and 'distance' as the value of the `weights`parameter.\n",
        "* Fit the data to the train set.\n",
        "* Predict the values of the test set.\n",
        "* Create a new dataframe with the following columns: *y_real* and *y_predicted* for the test set.\n",
        "* Obtain the confusion matrics by using `metrics.confusion_matrix`[[5](https://scikit-learn.org/stable/modules/generated/sklearn.metrics.confusion_matrix.html)]"
      ],
      "id": "particular-nickname"
    },
    {
      "cell_type": "code",
      "metadata": {
        "id": "welcome-affiliate"
      },
      "source": [
        "# Create your KNN model here\n",
        "from sklearn.neighbors import KNeighborsClassifier\n",
        "\n",
        "neigh = KNeighborsClassifier(n_neighbors=5, weights='distance')"
      ],
      "id": "welcome-affiliate",
      "execution_count": null,
      "outputs": []
    },
    {
      "cell_type": "code",
      "metadata": {
        "id": "local-greenhouse",
        "colab": {
          "base_uri": "https://localhost:8080/"
        },
        "outputId": "b33d68de-b21b-46ae-fc84-c3a2273f80b6"
      },
      "source": [
        "# Fit the data to the train set here\n",
        "neigh.fit(data_train, target_train)"
      ],
      "id": "local-greenhouse",
      "execution_count": null,
      "outputs": [
        {
          "output_type": "execute_result",
          "data": {
            "text/plain": [
              "KNeighborsClassifier(algorithm='auto', leaf_size=30, metric='minkowski',\n",
              "                     metric_params=None, n_jobs=None, n_neighbors=5, p=2,\n",
              "                     weights='distance')"
            ]
          },
          "metadata": {
            "tags": []
          },
          "execution_count": 15
        }
      ]
    },
    {
      "cell_type": "code",
      "metadata": {
        "id": "suburban-state"
      },
      "source": [
        "# Predict the values of the test set here\n",
        "yhat = knn_c.predict(data_test)"
      ],
      "id": "suburban-state",
      "execution_count": null,
      "outputs": []
    },
    {
      "cell_type": "code",
      "metadata": {
        "id": "vertical-painting"
      },
      "source": [
        "# Create a new dataframe with 'y_real' and 'y_predicted'\n",
        "new_dataframe = pd.DataFrame()\n",
        "new_dataframe['y_real'] = target_test\n",
        "new_dataframe['y_predicted'] = yhat"
      ],
      "id": "vertical-painting",
      "execution_count": null,
      "outputs": []
    },
    {
      "cell_type": "code",
      "metadata": {
        "colab": {
          "base_uri": "https://localhost:8080/"
        },
        "id": "iUXFTO8kKKSn",
        "outputId": "08ec726f-87c8-4e58-f9fb-b878442c65db"
      },
      "source": [
        "# Hand-made confusion matrix\n",
        "confusion_matrix = ConfusionMatrix(new_dataframe['y_real'] , new_dataframe['y_predicted']).values\n",
        "confusion_matrix"
      ],
      "id": "iUXFTO8kKKSn",
      "execution_count": null,
      "outputs": [
        {
          "output_type": "execute_result",
          "data": {
            "text/plain": [
              "array([[15,  0,  0],\n",
              "       [ 0, 15,  0],\n",
              "       [ 0,  1, 14]])"
            ]
          },
          "metadata": {
            "tags": []
          },
          "execution_count": 18
        }
      ]
    },
    {
      "cell_type": "code",
      "metadata": {
        "id": "known-setup",
        "colab": {
          "base_uri": "https://localhost:8080/",
          "height": 279
        },
        "outputId": "49d7b299-69c1-4315-de57-202799d0a3c2"
      },
      "source": [
        "# After obtaining the `confusion_matrix` in the las cell\n",
        "# execute this cell to print it into a graphical way.\n",
        "\n",
        "corr_im = plt.imshow(confusion_matrix, cmap=\"Reds\", vmin=0)\n",
        "corr_cbar = plt.colorbar(corr_im)\n",
        "\n",
        "corr_array = corr_im.get_array()\n",
        "for i in range(confusion_matrix.shape[0]):\n",
        "    for j in range(confusion_matrix.shape[1]):\n",
        "        cell_value = corr_array[i][j]\n",
        "        if cell_value > 0.5*np.max(confusion_matrix):\n",
        "            text_color = 'white'\n",
        "        else:\n",
        "            text_color = 'black'\n",
        "        plt.text(i, j, '{:.2f}'.format(cell_value), color=text_color, ha='center', va='center')\n",
        "\n",
        "plt.xticks(ticks=range(len(iris.target_names)), labels=iris.target_names)\n",
        "plt.yticks(ticks=range(len(iris.target_names)), labels=iris.target_names)\n",
        "\n",
        "plt.xlabel(\"True class\")\n",
        "plt.ylabel(\"Predicted class\")\n",
        "plt.show()"
      ],
      "id": "known-setup",
      "execution_count": null,
      "outputs": [
        {
          "output_type": "display_data",
          "data": {
            "image/png": "[encoded data removed]",
            "text/plain": [
              "<Figure size 432x288 with 2 Axes>"
            ]
          },
          "metadata": {
            "tags": [],
            "needs_background": "light"
          }
        }
      ]
    },
    {
      "cell_type": "markdown",
      "metadata": {
        "id": "everyday-shopper"
      },
      "source": [
        "**T10.** Select the appropiate number of *k* by training and evaluating several KNeighborsClassifier Models. This time evaluate each model by using `sklearn.model_selection.cross_val_score` [[6](https://scikit-learn.org/stable/modules/generated/sklearn.model_selection.cross_val_score.html)]. Use the accuracy to evaluate the model.\n",
        "\n",
        "Print the confusion matrix and accuracy for a model trained with the best value of *k*."
      ],
      "id": "everyday-shopper"
    },
    {
      "cell_type": "code",
      "metadata": {
        "id": "johPAakLKPGr"
      },
      "source": [
        "from sklearn.model_selection import cross_val_score\n"
      ],
      "id": "johPAakLKPGr",
      "execution_count": null,
      "outputs": []
    },
    {
      "cell_type": "code",
      "metadata": {
        "id": "assumed-stream",
        "colab": {
          "base_uri": "https://localhost:8080/",
          "height": 421
        },
        "outputId": "fcfee714-7c21-400a-d9ca-0291e1391476"
      },
      "source": [
        "acc = []\n",
        "for i in range(1,11):\n",
        "    neigh = KNeighborsClassifier(n_neighbors=i, weights='distance')\n",
        "    acc.append((cross_val_score(neigh, irisDF[iris.feature_names], irisDF['target'], cv=10, scoring='accuracy').mean()))\n",
        "  \n",
        "    \n",
        "plt.figure(figsize=(10,6))\n",
        "plt.plot(range(1,11),acc,color = 'blue',linestyle='dashed', \n",
        "         marker='o',markerfacecolor='red', markersize=10)\n",
        "plt.title('accuracy vs. K Value')\n",
        "plt.xlabel('K')\n",
        "plt.ylabel('Accuracy')\n",
        "print(\"Maximum accuracy: \",max(acc),\"at K =\",acc.index(max(acc))+1)"
      ],
      "id": "assumed-stream",
      "execution_count": null,
      "outputs": [
        {
          "output_type": "stream",
          "text": [
            "Maximum accuracy:  0.9733333333333334 at K = 9\n"
          ],
          "name": "stdout"
        },
        {
          "output_type": "display_data",
          "data": {
            "image/png": "[encoded data removed]",
            "text/plain": [
              "<Figure size 720x432 with 1 Axes>"
            ]
          },
          "metadata": {
            "tags": [],
            "needs_background": "light"
          }
        }
      ]
    },
    {
      "cell_type": "code",
      "metadata": {
        "colab": {
          "base_uri": "https://localhost:8080/",
          "height": 171
        },
        "id": "4oVuwZcrc-rm",
        "outputId": "cba02376-80d1-429c-aac8-f638e48925e2"
      },
      "source": [
        "# Confussion Matrix using cross_val_predict over the entire dataset\n",
        "from sklearn.model_selection import cross_val_predict\n",
        "\n",
        "neigh = KNeighborsClassifier(n_neighbors=9, weights='distance')\n",
        "yhat = cross_val_predict(neigh, irisDF[iris.feature_names], irisDF['target'], cv=10)\n",
        "\n",
        "confusion_matrix = ConfusionMatrix(irisDF['target'],yhat)\n",
        "confusion_matrix"
      ],
      "id": "4oVuwZcrc-rm",
      "execution_count": null,
      "outputs": [
        {
          "output_type": "execute_result",
          "data": {
            "text/html": [
              "<div>\n",
              "<style scoped>\n",
              "    .dataframe tbody tr th:only-of-type {\n",
              "        vertical-align: middle;\n",
              "    }\n",
              "\n",
              "    .dataframe tbody tr th {\n",
              "        vertical-align: top;\n",
              "    }\n",
              "\n",
              "    .dataframe thead th {\n",
              "        text-align: right;\n",
              "    }\n",
              "</style>\n",
              "<table border=\"1\" class=\"dataframe\">\n",
              "  <thead>\n",
              "    <tr style=\"text-align: right;\">\n",
              "      <th>col_0</th>\n",
              "      <th>0</th>\n",
              "      <th>1</th>\n",
              "      <th>2</th>\n",
              "    </tr>\n",
              "    <tr>\n",
              "      <th>target</th>\n",
              "      <th></th>\n",
              "      <th></th>\n",
              "      <th></th>\n",
              "    </tr>\n",
              "  </thead>\n",
              "  <tbody>\n",
              "    <tr>\n",
              "      <th>0</th>\n",
              "      <td>50</td>\n",
              "      <td>0</td>\n",
              "      <td>0</td>\n",
              "    </tr>\n",
              "    <tr>\n",
              "      <th>1</th>\n",
              "      <td>0</td>\n",
              "      <td>47</td>\n",
              "      <td>3</td>\n",
              "    </tr>\n",
              "    <tr>\n",
              "      <th>2</th>\n",
              "      <td>0</td>\n",
              "      <td>1</td>\n",
              "      <td>49</td>\n",
              "    </tr>\n",
              "  </tbody>\n",
              "</table>\n",
              "</div>"
            ],
            "text/plain": [
              "col_0    0   1   2\n",
              "target            \n",
              "0       50   0   0\n",
              "1        0  47   3\n",
              "2        0   1  49"
            ]
          },
          "metadata": {
            "tags": []
          },
          "execution_count": 46
        }
      ]
    },
    {
      "cell_type": "code",
      "metadata": {
        "colab": {
          "base_uri": "https://localhost:8080/"
        },
        "id": "EpV5IWPVkjlJ",
        "outputId": "ed18736d-66b3-49d7-a3aa-7241d940dd66"
      },
      "source": [
        "# Accuracy of the model\n",
        "print(Accuracy(irisDF['target'],yhat))"
      ],
      "id": "EpV5IWPVkjlJ",
      "execution_count": null,
      "outputs": [
        {
          "output_type": "stream",
          "text": [
            "0.9733333333333334\n"
          ],
          "name": "stdout"
        }
      ]
    },
    {
      "cell_type": "code",
      "metadata": {
        "colab": {
          "base_uri": "https://localhost:8080/",
          "height": 171
        },
        "id": "ov2BQhztjUh_",
        "outputId": "de453d6b-334e-4906-ecdb-178cd341596f"
      },
      "source": [
        "# Confussion Matrix using train/test split \n",
        "neigh = KNeighborsClassifier(n_neighbors=9, weights='distance')\n",
        "neigh.fit(data_train, target_train)\n",
        "yhat = neigh.predict(data_test)\n",
        "\n",
        "confusion_matrix = ConfusionMatrix(target_test,yhat)\n",
        "confusion_matrix"
      ],
      "id": "ov2BQhztjUh_",
      "execution_count": null,
      "outputs": [
        {
          "output_type": "execute_result",
          "data": {
            "text/html": [
              "<div>\n",
              "<style scoped>\n",
              "    .dataframe tbody tr th:only-of-type {\n",
              "        vertical-align: middle;\n",
              "    }\n",
              "\n",
              "    .dataframe tbody tr th {\n",
              "        vertical-align: top;\n",
              "    }\n",
              "\n",
              "    .dataframe thead th {\n",
              "        text-align: right;\n",
              "    }\n",
              "</style>\n",
              "<table border=\"1\" class=\"dataframe\">\n",
              "  <thead>\n",
              "    <tr style=\"text-align: right;\">\n",
              "      <th>col_0</th>\n",
              "      <th>0</th>\n",
              "      <th>1</th>\n",
              "      <th>2</th>\n",
              "    </tr>\n",
              "    <tr>\n",
              "      <th>row_0</th>\n",
              "      <th></th>\n",
              "      <th></th>\n",
              "      <th></th>\n",
              "    </tr>\n",
              "  </thead>\n",
              "  <tbody>\n",
              "    <tr>\n",
              "      <th>0</th>\n",
              "      <td>15</td>\n",
              "      <td>0</td>\n",
              "      <td>0</td>\n",
              "    </tr>\n",
              "    <tr>\n",
              "      <th>1</th>\n",
              "      <td>0</td>\n",
              "      <td>15</td>\n",
              "      <td>0</td>\n",
              "    </tr>\n",
              "    <tr>\n",
              "      <th>2</th>\n",
              "      <td>0</td>\n",
              "      <td>1</td>\n",
              "      <td>14</td>\n",
              "    </tr>\n",
              "  </tbody>\n",
              "</table>\n",
              "</div>"
            ],
            "text/plain": [
              "col_0   0   1   2\n",
              "row_0            \n",
              "0      15   0   0\n",
              "1       0  15   0\n",
              "2       0   1  14"
            ]
          },
          "metadata": {
            "tags": []
          },
          "execution_count": 48
        }
      ]
    },
    {
      "cell_type": "code",
      "metadata": {
        "colab": {
          "base_uri": "https://localhost:8080/"
        },
        "id": "c2C03c2qka0Q",
        "outputId": "a48ac9b2-d2da-4738-ad45-c8b4e2d25a0a"
      },
      "source": [
        "# Accuracy of the model\n",
        "print(Accuracy(target_test,yhat))"
      ],
      "id": "c2C03c2qka0Q",
      "execution_count": null,
      "outputs": [
        {
          "output_type": "stream",
          "text": [
            "0.9777777777777777\n"
          ],
          "name": "stdout"
        }
      ]
    },
    {
      "cell_type": "markdown",
      "metadata": {
        "id": "backed-electricity"
      },
      "source": [
        "# KNN Regressor\n",
        "\n",
        "Consider the Boston Housing Data [[7](https://www.cs.toronto.edu/~delve/data/boston/bostonDetail.html)]. It contains information collected by the U.S. Census Service concerning housing in the area of Boston Mass. "
      ],
      "id": "backed-electricity"
    },
    {
      "cell_type": "code",
      "metadata": {
        "id": "confused-header"
      },
      "source": [
        "boston = datasets.load_boston()"
      ],
      "id": "confused-header",
      "execution_count": null,
      "outputs": []
    },
    {
      "cell_type": "code",
      "metadata": {
        "id": "palestinian-going"
      },
      "source": [
        "bostonDF = pd.DataFrame(boston.data, columns=boston.feature_names)\n",
        "bostonDF[\"PRICE\"] = boston.target"
      ],
      "id": "palestinian-going",
      "execution_count": null,
      "outputs": []
    },
    {
      "cell_type": "code",
      "metadata": {
        "id": "armed-storm",
        "colab": {
          "base_uri": "https://localhost:8080/",
          "height": 202
        },
        "outputId": "71f3d3b5-7d2d-463a-85b2-83d64e9e453c"
      },
      "source": [
        "bostonDF.head()"
      ],
      "id": "armed-storm",
      "execution_count": null,
      "outputs": [
        {
          "output_type": "execute_result",
          "data": {
            "text/html": [
              "<div>\n",
              "<style scoped>\n",
              "    .dataframe tbody tr th:only-of-type {\n",
              "        vertical-align: middle;\n",
              "    }\n",
              "\n",
              "    .dataframe tbody tr th {\n",
              "        vertical-align: top;\n",
              "    }\n",
              "\n",
              "    .dataframe thead th {\n",
              "        text-align: right;\n",
              "    }\n",
              "</style>\n",
              "<table border=\"1\" class=\"dataframe\">\n",
              "  <thead>\n",
              "    <tr style=\"text-align: right;\">\n",
              "      <th></th>\n",
              "      <th>CRIM</th>\n",
              "      <th>ZN</th>\n",
              "      <th>INDUS</th>\n",
              "      <th>CHAS</th>\n",
              "      <th>NOX</th>\n",
              "      <th>RM</th>\n",
              "      <th>AGE</th>\n",
              "      <th>DIS</th>\n",
              "      <th>RAD</th>\n",
              "      <th>TAX</th>\n",
              "      <th>PTRATIO</th>\n",
              "      <th>B</th>\n",
              "      <th>LSTAT</th>\n",
              "      <th>PRICE</th>\n",
              "    </tr>\n",
              "  </thead>\n",
              "  <tbody>\n",
              "    <tr>\n",
              "      <th>0</th>\n",
              "      <td>0.00632</td>\n",
              "      <td>18.0</td>\n",
              "      <td>2.31</td>\n",
              "      <td>0.0</td>\n",
              "      <td>0.538</td>\n",
              "      <td>6.575</td>\n",
              "      <td>65.2</td>\n",
              "      <td>4.0900</td>\n",
              "      <td>1.0</td>\n",
              "      <td>296.0</td>\n",
              "      <td>15.3</td>\n",
              "      <td>396.90</td>\n",
              "      <td>4.98</td>\n",
              "      <td>24.0</td>\n",
              "    </tr>\n",
              "    <tr>\n",
              "      <th>1</th>\n",
              "      <td>0.02731</td>\n",
              "      <td>0.0</td>\n",
              "      <td>7.07</td>\n",
              "      <td>0.0</td>\n",
              "      <td>0.469</td>\n",
              "      <td>6.421</td>\n",
              "      <td>78.9</td>\n",
              "      <td>4.9671</td>\n",
              "      <td>2.0</td>\n",
              "      <td>242.0</td>\n",
              "      <td>17.8</td>\n",
              "      <td>396.90</td>\n",
              "      <td>9.14</td>\n",
              "      <td>21.6</td>\n",
              "    </tr>\n",
              "    <tr>\n",
              "      <th>2</th>\n",
              "      <td>0.02729</td>\n",
              "      <td>0.0</td>\n",
              "      <td>7.07</td>\n",
              "      <td>0.0</td>\n",
              "      <td>0.469</td>\n",
              "      <td>7.185</td>\n",
              "      <td>61.1</td>\n",
              "      <td>4.9671</td>\n",
              "      <td>2.0</td>\n",
              "      <td>242.0</td>\n",
              "      <td>17.8</td>\n",
              "      <td>392.83</td>\n",
              "      <td>4.03</td>\n",
              "      <td>34.7</td>\n",
              "    </tr>\n",
              "    <tr>\n",
              "      <th>3</th>\n",
              "      <td>0.03237</td>\n",
              "      <td>0.0</td>\n",
              "      <td>2.18</td>\n",
              "      <td>0.0</td>\n",
              "      <td>0.458</td>\n",
              "      <td>6.998</td>\n",
              "      <td>45.8</td>\n",
              "      <td>6.0622</td>\n",
              "      <td>3.0</td>\n",
              "      <td>222.0</td>\n",
              "      <td>18.7</td>\n",
              "      <td>394.63</td>\n",
              "      <td>2.94</td>\n",
              "      <td>33.4</td>\n",
              "    </tr>\n",
              "    <tr>\n",
              "      <th>4</th>\n",
              "      <td>0.06905</td>\n",
              "      <td>0.0</td>\n",
              "      <td>2.18</td>\n",
              "      <td>0.0</td>\n",
              "      <td>0.458</td>\n",
              "      <td>7.147</td>\n",
              "      <td>54.2</td>\n",
              "      <td>6.0622</td>\n",
              "      <td>3.0</td>\n",
              "      <td>222.0</td>\n",
              "      <td>18.7</td>\n",
              "      <td>396.90</td>\n",
              "      <td>5.33</td>\n",
              "      <td>36.2</td>\n",
              "    </tr>\n",
              "  </tbody>\n",
              "</table>\n",
              "</div>"
            ],
            "text/plain": [
              "      CRIM    ZN  INDUS  CHAS    NOX  ...    TAX  PTRATIO       B  LSTAT  PRICE\n",
              "0  0.00632  18.0   2.31   0.0  0.538  ...  296.0     15.3  396.90   4.98   24.0\n",
              "1  0.02731   0.0   7.07   0.0  0.469  ...  242.0     17.8  396.90   9.14   21.6\n",
              "2  0.02729   0.0   7.07   0.0  0.469  ...  242.0     17.8  392.83   4.03   34.7\n",
              "3  0.03237   0.0   2.18   0.0  0.458  ...  222.0     18.7  394.63   2.94   33.4\n",
              "4  0.06905   0.0   2.18   0.0  0.458  ...  222.0     18.7  396.90   5.33   36.2\n",
              "\n",
              "[5 rows x 14 columns]"
            ]
          },
          "metadata": {
            "tags": []
          },
          "execution_count": 16
        }
      ]
    },
    {
      "cell_type": "markdown",
      "metadata": {
        "id": "armed-function"
      },
      "source": [
        "Scikit-Learn implements a regressor based on k-nearest neighbors (https://scikit-learn.org/stable/modules/generated/sklearn.neighbors.KNeighborsRegressor.html). The parameters of the model are similar to the one reviewed in the last section.\n",
        "\n",
        "**T11.** In order to make the prediction of the , some preprocessing steps are needed to improve the performance of the KNN Model. Complete the following:\n",
        "* Use the StandardScaler (`sklearn.preprocessing.StandardScaler`) to standardize the features.\n",
        "* Perform a stratified split of data (70% Train and 30% Test) into a Train and Test set. You can use `sklearn.model_selection.train_test_split`."
      ],
      "id": "armed-function"
    },
    {
      "cell_type": "code",
      "metadata": {
        "id": "sitting-belief"
      },
      "source": [
        "from sklearn.preprocessing import StandardScaler\n",
        "# from sklearn.model_selection import train_test_split\n",
        "\n",
        "# X_train, X_test, y_train, y_test = train_test_split(boston.data, boston.target.reshape(-1, 1), test_size=0.30, random_state=0)\n",
        "\n",
        "# X_train = scaler_T11.transform(X_train)\n",
        "# X_test = scaler_T11.transform(X_test)\n",
        "\n",
        "# It doesn't make sense to use a train/test split if we are going to evaluate with the whole datatet with cross-validation\n",
        "\n",
        "X = StandardScaler().fit_transform(boston.data)\n",
        "y = boston.target.reshape(-1,1)"
      ],
      "id": "sitting-belief",
      "execution_count": null,
      "outputs": []
    },
    {
      "cell_type": "markdown",
      "metadata": {
        "id": "authorized-henry"
      },
      "source": [
        "**T12.** Fit the best KNeighborsRegressor considering `n_neighbors`and `weights`('uniform' and 'distance') as hyperparameters. Use cross validation (`cross_val_score`) to evaluate the model and RMSE as the evaluation metric.\n",
        "\n",
        "Justify your selection by presenting two plots of 'RMSE' as a function of 'k'. One plot should correspond to models with 'uniform' weights and the second one with 'distance' weights."
      ],
      "id": "authorized-henry"
    },
    {
      "cell_type": "code",
      "metadata": {
        "id": "cvPKY6AHKRye"
      },
      "source": [
        "from sklearn.neighbors import KNeighborsRegressor\n",
        "uniforms = []\n",
        "distances = []\n",
        "\n",
        "for k in range(1, 11): # check different values of k \n",
        "  krr_r_uniform = KNeighborsRegressor(n_neighbors=k, weights='uniform', n_jobs=-1)\n",
        "  krr_r_distance = KNeighborsRegressor(n_neighbors=k, weights='distance', n_jobs=-1)\n",
        "\n",
        "  rmse_u = -cross_val_score(krr_r_uniform, X, y, scoring='neg_root_mean_squared_error')\n",
        "  rmse_d = -cross_val_score(krr_r_distance, X, y, scoring='neg_root_mean_squared_error')\n",
        "  uniforms.append(rmse_u)\n",
        "  distances.append(rmse_d)"
      ],
      "id": "cvPKY6AHKRye",
      "execution_count": null,
      "outputs": []
    },
    {
      "cell_type": "code",
      "metadata": {
        "id": "5jdySSdecVkU"
      },
      "source": [
        "# list of lists to a 2-d array\n",
        "unif = np.array(uniforms)\n",
        "dist = np.array(distances)\n",
        "\n",
        "# numpy array to pandas dataframe\n",
        "df_unifs = pd.DataFrame(unif)\n",
        "df_dist = pd.DataFrame(dist)\n",
        "\n",
        "# because k started at 1, not at 0\n",
        "df_unifs.index += 1\n",
        "df_dist.index += 1\n",
        "\n",
        "# to have the data in a nice looking ['k', 'rmse', 'type'] long format\n",
        "df_uniforms = df_unifs.reset_index().melt(id_vars=['index']).drop('variable', axis=1)\n",
        "df_uniforms.columns = ['k','rmse']\n",
        "df_distances = df_dist.reset_index().melt(id_vars=['index']).drop('variable', axis=1)\n",
        "df_distances.columns = ['k','rmse']\n",
        "\n",
        "\n",
        "df_uniforms['type'] = 'uniform'\n",
        "df_distances['type'] = 'distance'\n",
        "\n",
        "# have all the data in a single dataframe\n",
        "final = pd.concat([df_uniforms, df_distances])"
      ],
      "id": "5jdySSdecVkU",
      "execution_count": null,
      "outputs": []
    },
    {
      "cell_type": "code",
      "metadata": {
        "colab": {
          "base_uri": "https://localhost:8080/",
          "height": 334
        },
        "id": "wP61G8dacCwv",
        "outputId": "ddea36a1-d922-4d82-abe6-b8dd5b9ddf59"
      },
      "source": [
        "import seaborn as sns\n",
        "\n",
        "fig, ax = plt.subplots()\n",
        "\n",
        "fig.set_size_inches(15, 5)\n",
        "sns.boxplot(x=\"k\", y=\"rmse\",\n",
        "            hue=\"type\", palette=[\"m\", \"g\"],\n",
        "            data=final,\n",
        "            ax=ax)\n",
        "sns.despine(trim=True)"
      ],
      "id": "wP61G8dacCwv",
      "execution_count": null,
      "outputs": [
        {
          "output_type": "display_data",
          "data": {
            "image/png": "[encoded data removed]",
            "text/plain": [
              "<Figure size 1080x360 with 1 Axes>"
            ]
          },
          "metadata": {
            "tags": [],
            "needs_background": "light"
          }
        }
      ]
    },
    {
      "cell_type": "code",
      "metadata": {
        "id": "vjipbdOtcDZ9"
      },
      "source": [
        "\"\"\"\n",
        "It is hard to tell which k is better.\n",
        "\n",
        "As it can be seen in the graph, it didn't matter that much if the weights were uniform or based in distance, \n",
        "the performance was similar in both cases, and even tho the mean in some cases was better for one weight or the other,\n",
        "their variance is almost the same in all the cases.\n",
        "\n",
        "With that hyper-parameter out of the discussion, it could be said that bigger k gave better results in the rmse, until as \n",
        "k started to increase, the variable increased as well.\n",
        "\n",
        "Because of that, it might be better to choose a k between 4 and 6, because the mean of the performance is similar to the other k's,\n",
        "but has a smaller variance, which translates to having more consisting predictions.\n",
        "\"\"\";"
      ],
      "id": "vjipbdOtcDZ9",
      "execution_count": null,
      "outputs": []
    },
    {
      "cell_type": "code",
      "metadata": {
        "id": "5GNGend8mMR0"
      },
      "source": [
        "# :)"
      ],
      "id": "5GNGend8mMR0",
      "execution_count": null,
      "outputs": []
    }
  ]
}