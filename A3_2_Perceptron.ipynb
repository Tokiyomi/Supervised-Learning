{
 "cells": [
  {
   "cell_type": "code",
   "execution_count": 1,
   "metadata": {
    "id": "f5o45vjTbqAz"
   },
   "outputs": [],
   "source": [
    "import numpy as np\n",
    "import pandas as pd\n",
    "from sklearn import datasets\n",
    "from matplotlib import pyplot as plt"
   ]
  },
  {
   "cell_type": "markdown",
   "metadata": {
    "id": "o48ZO5o8bqA1"
   },
   "source": [
    "# Perceptrón\n",
    "\n",
    "## 1. Introduction\n",
    "\n",
    "Neural Networks are computational models whose objective is to replicate information processing methods analogous to those found in neurons in the brain.\n",
    "\n",
    "A neural network is a collection of interconnected neurons that learn incrementally from their enviroment, that is, the supplied data, to capture linear and non-linear trends in complex data, so that it provides predictions for new situations.\n",
    "\n",
    "From a computational point of view, the brain is composed of information-processing elements called neurons. Neurons are made up of three essential elements:\n",
    "\n",
    "1. The dendrites whose function is to receive the electrical pulses emitted by other neurons. \n",
    "2. The body of the neuron, where the nucleus is located, which receives the pulses and transforms them.\n",
    "3. Once the pulses are processed, they are delivered to other neurons through the axon.\n",
    "\n",
    "<center>\n",
    "    <img src=\"Images/Neurona_tagged.png\" width=\"600\">\n",
    "\n",
    "**Fig. 1:** Principal Component of a Neuron.\n",
    "</center>\n",
    "\n",
    "The Perceptron is one of the simples ANN architectures proposed by Frank Rosenblatt in 1957. The Perceptron training algorithm proposed by Rosenblatt was inspired by Hebb's rule. Donal Hebb suggested that when a biological neuron often triggers another neuron, the connection between these two neurons grows stronger. This idea was later summarized by Siegrid Löwel: \"Cells that fire together, wire together\". This rule later became known as Hebb's rule; that is the connection wegith between two neurons is increased whenever they have the same output [1].\n",
    "\n",
    "Perceptrons are trained using a variant of this rule that considers the error made by the network. The Perceptron is fed one training instance at a time, and for each instance it makes its prediction. For every output neuron that produced a wrong prediction, it reinforces the connection weights from the input that would have contributed to the correct prediction [1].\n",
    "\n",
    "## 2. Logic Gates\n",
    "\n",
    "An introductory exercise to neural networks consists of selecting the appropriate weight factors for the creation of logic gates. Figure 2 includes the schema for the perceptron as a logic gate discussed in class.\n",
    "\n",
    "<center>\n",
    "    <img src=\"Images/NeuralNetwork.png\" width=\"600\">\n",
    "\n",
    "**Fig. 2:** Perceptron as Logic Gate.\n",
    "</center>\n",
    "\n",
    "### **OR** Gate\n",
    "\n",
    "The table used to represent the boolean expression of a logic gate is known as Truth Table. The corresponding truth table for the **OR** gate is:  \n",
    "\n",
    "\n",
    "\n",
    "| $x_1$ | $x_2$   | y |\n",
    "| --- |---| ---:|\n",
    "| 0  | 0  | 0  |\n",
    "| 0  | 1  | 1  |\n",
    "| 1  | 0  | 1  |\n",
    "| 1  | 1  | 1  |\n",
    "\n",
    "<center>\n",
    "    Table 1. Truth Table of the **OR** Gate\n",
    "</center>\n",
    "\n",
    "The following code was retrieved from [2].  The four instances ($x_1$, $x_2$) are stored as tuples in `test_inputs` and the corresponding output are in `test_outputs`. Observe that `weight1` corresponds to the weight of $x_1$, `weight2`to the weight of $x_2$ and `bias` to the bias."
   ]
  },
  {
   "cell_type": "code",
   "execution_count": 2,
   "metadata": {
    "colab": {
     "base_uri": "https://localhost:8080/"
    },
    "id": "WtJuJGd5bqA_",
    "outputId": "d9e87ffd-2d75-4d6e-be88-ba47c6eddcb7"
   },
   "outputs": [
    {
     "name": "stdout",
     "output_type": "stream",
     "text": [
      " X1  X2  Linear Combination  Activation Output Correct?\n",
      "  0   0                  -1                  0      Yes\n",
      "  0   1                   0                  1      Yes\n",
      "  1   0                   0                  1      Yes\n",
      "  1   1                   1                  1      Yes\n"
     ]
    }
   ],
   "source": [
    "bias = -1\n",
    "weight1 = 1\n",
    "weight2 = 1\n",
    "\n",
    "# Input and Outputs\n",
    "test_inputs = [(0, 0), (0, 1), (1, 0), (1, 1)]\n",
    "test_outputs = [0, 1, 1, 1]\n",
    "outputs = []\n",
    "\n",
    "for test_input, test_output in zip(test_inputs, test_outputs):\n",
    "    # Linear Combination\n",
    "    linear_combination = weight1 * test_input[0] + weight2 * test_input[1] + bias\n",
    "    \n",
    "    # Activation Function (Step Function)\n",
    "    output = int(linear_combination >= 0)\n",
    "    \n",
    "    # Save if the prediction is correct ('Yes') or not ('No')\n",
    "    is_correct_string = 'Yes' if output == test_output else 'No'\n",
    "    outputs.append([test_input[0], test_input[1], linear_combination, output, is_correct_string])\n",
    "    \n",
    "output_frame = pd.DataFrame(outputs, columns=['X1', 'X2', 'Linear Combination', 'Activation Output', 'Correct?'])\n",
    "\n",
    "print(output_frame.to_string(index=False))"
   ]
  },
  {
   "cell_type": "markdown",
   "metadata": {
    "id": "-3frYPm4bqBA"
   },
   "source": [
    "**T1.** Which are the correct values of `weight1`,`weight2` anb `bias` such that the perceptron acts as the logical gate **OR**? Justify your answer by using the concepts: *discriminant function* and *decision boundary*. You can add and schema if you need it."
   ]
  },
  {
   "cell_type": "markdown",
   "metadata": {
    "id": "qV7mQNhpbqBA"
   },
   "source": [
    "\n",
    "The correct values of `weight1`,`weight2` and `bias` are **1**, **1** and **-1** as you can see in the output frame above, thus having a `discriminant function` `g(x1,x2) = x1 + x2 - 1`.  \n",
    "\n",
    "This has a graphic justification were the correct outputs can be linearly separable. Here, we can see a `decision boundary` line located at `x1 + x2 -1 = 0`, were all the values over and above the line have **1** as output, and the values below this function have **0**, therefore we can use the discriminant function stated below for the `activation function` as `x1 + x2 - 1 >= 0` (1 for over and above the function, 0 otherwise) thus corresponding the same output values for **OR** Gate.\n",
    "\n",
    "![picture](https://drive.google.com/uc?export=view&id=1E0LCopcqlpzsglTkJd8eM9yQToGvCU1P)\n",
    "\n"
   ]
  },
  {
   "cell_type": "markdown",
   "metadata": {
    "id": "v-1r5nrJbqBA"
   },
   "source": [
    "### Compuerta **AND**\n",
    "\n",
    "The corresponding truth table for the **AND** gate is: \n",
    "\n",
    "\n",
    "| $x_1$ | $x_2$   | y |\n",
    "| ------ |---------| ------:|\n",
    "| 0  | 0  | 0  |\n",
    "| 0  | 1  | 0  |\n",
    "| 1  | 0  | 0  |\n",
    "| 1  | 1  | 1  |\n",
    "\n",
    "<center>\n",
    "    Table 2. Truth Table of the **AND**.\n",
    "</center>\n",
    "\n",
    "**T2.** Which are the correct values of `weight1`,`weight2` anb `bias` such that the perceptron acts as the logical gate **AND**? Justify your answer by using the concepts: *discriminant function* and *decision boundary*. You can add and schema if you need it. \n",
    "\n",
    "Note that you need to write the inputs/outputs for the gate **AND**."
   ]
  },
  {
   "cell_type": "code",
   "execution_count": 3,
   "metadata": {
    "colab": {
     "base_uri": "https://localhost:8080/"
    },
    "id": "yMMLRHxEbqBB",
    "outputId": "8c3b4962-2da3-49d0-cb41-5c365dd673a8"
   },
   "outputs": [
    {
     "name": "stdout",
     "output_type": "stream",
     "text": [
      " X1  X2  Linear Combination  Activation Output Correct?\n",
      "  0   0                  -2                  0      Yes\n",
      "  0   1                  -1                  0      Yes\n",
      "  1   0                  -1                  0      Yes\n",
      "  1   1                   0                  1      Yes\n"
     ]
    }
   ],
   "source": [
    "weight1 = 1\n",
    "weight2 = 1\n",
    "bias = -2\n",
    "\n",
    "# Input and Outputs\n",
    "test_inputs = [(0, 0), (0, 1), (1, 0), (1, 1)]\n",
    "test_outputs = [0, 0, 0, 1]\n",
    "outputs = []\n",
    "\n",
    "for test_input, test_output in zip(test_inputs, test_outputs):\n",
    "    # Linear Combination\n",
    "    linear_combination = weight1 * test_input[0] + weight2 * test_input[1] + bias\n",
    "    \n",
    "    # Activation Function (Step Function)\n",
    "    output = int(linear_combination >= 0)\n",
    "    \n",
    "    # Save if the prediction is correct ('Yes') or not ('No')\n",
    "    is_correct_string = 'Yes' if output == test_output else 'No'\n",
    "    outputs.append([test_input[0], test_input[1], linear_combination, output, is_correct_string])\n",
    "    \n",
    "output_frame = pd.DataFrame(outputs, columns=['X1', 'X2', 'Linear Combination', 'Activation Output', 'Correct?'])\n",
    "\n",
    "print(output_frame.to_string(index=False))"
   ]
  },
  {
   "cell_type": "markdown",
   "metadata": {
    "id": "ygZa-z9OiKsB"
   },
   "source": [
    "The correct values of `weight1`,`weight2` and `bias` are **1**, **1** and **-2** as you can see in the output frame above, thus having a `discriminant function` `g(x1,x2) = x1 + x2 - 2`.  \n",
    "\n",
    "This has a graphic justification were the correct outputs can be linearly separable. Here, we can see a `decision boundary` line located at `x1 + x2 -2 = 0`, were all the values over and above the line have **1** as output, and the values below this function have **0**, therefore we can use the discriminant function stated below for the `activation function` as `x1 + x2 - 2 >= 0` (1 for over and above the function, 0 otherwise) thus corresponding the same output values for **AND** Gate.\n",
    "\n",
    "![picture](https://drive.google.com/uc?export=view&id=1QBHtMIznRaEvWbE830tfWjTpu9B0gXcz)"
   ]
  },
  {
   "cell_type": "markdown",
   "metadata": {
    "id": "8wgUP5bnbqBC"
   },
   "source": [
    "### Compuerta **NOT**\n",
    "\n",
    "The corresponding truth table for the **NOT** gate is: \n",
    "\n",
    "\n",
    "\n",
    "\n",
    "| $x_1$ | $y$   |\n",
    "| ------ | ------:|\n",
    "| 0  | 1  |\n",
    "| 1  | 0  |\n",
    "\n",
    "<center>\n",
    "    Table 3. Truth Table of the **NOT**.\n",
    "</center>\n",
    "\n",
    "\n",
    "**T3.** Which are the correct values of `weight1` anb `bias` such that the perceptron acts as the logical gate **NOT**? Justify your answer by using the concepts: *discriminant function* and *decision boundary*. You can add and schema if you need it. \n",
    "\n",
    "The following code is the same as in the previous tasks. Adapt the code in order to create a Perceptron which acts as the logical gate **NOT**."
   ]
  },
  {
   "cell_type": "code",
   "execution_count": 4,
   "metadata": {
    "colab": {
     "base_uri": "https://localhost:8080/"
    },
    "id": "Bt24qopqbqBC",
    "outputId": "4cce1a78-1b48-44f4-881b-91b06fbfa8ce",
    "scrolled": true
   },
   "outputs": [
    {
     "name": "stdout",
     "output_type": "stream",
     "text": [
      " X1  Linear Combination  Activation Output Correct?\n",
      "  0                -0.5                  1      Yes\n",
      "  1                 0.5                  0      Yes\n"
     ]
    }
   ],
   "source": [
    "weight1 = 1\n",
    "bias = - 0.5\n",
    "\n",
    "# Input and Outputs\n",
    "test_inputs = [0,1]\n",
    "test_outputs = [1,0]\n",
    "outputs = []\n",
    "\n",
    "for test_input, test_output in zip(test_inputs, test_outputs):\n",
    "    # Linear Combination\n",
    "    linear_combination = weight1 * test_input + bias\n",
    "    \n",
    "    # Activation Function (Step Function)\n",
    "    output = int(linear_combination <= 0)\n",
    "    \n",
    "    # Save if the prediction is correct ('Yes') or not ('No')\n",
    "    is_correct_string = 'Yes' if output == test_output else 'No'\n",
    "    outputs.append([test_input, linear_combination, output, is_correct_string])\n",
    "    \n",
    "output_frame = pd.DataFrame(outputs, columns=['X1', 'Linear Combination', 'Activation Output', 'Correct?'])\n",
    "\n",
    "print(output_frame.to_string(index=False))"
   ]
  },
  {
   "cell_type": "markdown",
   "metadata": {
    "id": "lHcZYjzNnjpb"
   },
   "source": [
    "The values of `weight1` and `bias` are **1** and **-0.5** as you can see in the output frame above, thus having a `discriminant function` `g(x1) = x1 - 0.5`. \n",
    "\n",
    "This has a graphic justification were the correct outputs can be linearly separable. Here, we can choose a `decision boundary` line located at `x1 -0 .5 = 0`, were all the values over and left to the line have **1** as output, and the values right this function have **0**, therefore we can use the discriminant function stated below for the `activation function` like this one `x1 - 0.5 <= 0` (1 for left and over the function, 0 otherwise) thus corresponding the same output values for **NOT** Gate.\n",
    "\n",
    "![picture](https://drive.google.com/uc?export=view&id=1WPuz4jZlMt2zb4MkxLWx2IxB92pqdvfF)"
   ]
  },
  {
   "cell_type": "markdown",
   "metadata": {
    "id": "MA6tOlODbqBD"
   },
   "source": [
    "### Compuerta **XOR**\n",
    "\n",
    "The corresponding truth table for the **XOR** gate is: \n",
    "\n",
    "\n",
    "| $x_1$ | $x_2$   | y |\n",
    "| ------ |---------| ------:|\n",
    "| 0  | 0  | 0  |\n",
    "| 0  | 1  | 1  |\n",
    "| 1  | 0  | 1  |\n",
    "| 1  | 1  | 0  |\n",
    "\n",
    "<center>\n",
    "    Table 3. Truth Table of the **XOR**.\n",
    "</center>\n",
    "\n",
    "\n",
    "\n",
    "\n",
    "**T4.** Which are the correct values of `weight1`, `weight2` anb `bias` such that the perceptron acts as the logical gate **XOR**? Justify your answer by using the concepts: *discriminant function* and *decision boundary*. You can add and schema if you need it. \n",
    "\n",
    "The following code is the same as in the previous tasks. Adapt the code in order to create a Perceptron which acts as the logical gate **XOR**."
   ]
  },
  {
   "cell_type": "markdown",
   "metadata": {
    "id": "shTCus00J0d3"
   },
   "source": [
    "In the case of the **XOR** gate, there is not a linear combination that fullfills the whole outputs correctly as the points are crossed. We would need to use a more complex discriminant function using **AND, OR and NOT** gates. --> https://www.geeksforgeeks.org/implementation-of-perceptron-algorithm-for-xor-logic-gate-with-2-bit-binary-input/ \n",
    "\n",
    "![picture](https://drive.google.com/uc?export=view&id=1xznYgP64f-Wgz6nVyzns4uGxID1w5Udm)\n",
    "\n",
    "![picture](https://drive.google.com/uc?export=view&id=1XeSEu0_6C7gWoInSXe61REtdqlWlaC0I)"
   ]
  },
  {
   "cell_type": "code",
   "execution_count": 5,
   "metadata": {
    "colab": {
     "base_uri": "https://localhost:8080/"
    },
    "id": "qMoicKUVbqBD",
    "outputId": "6045999b-fc8c-4b5a-ce58-6d88b965875d",
    "scrolled": true
   },
   "outputs": [
    {
     "name": "stdout",
     "output_type": "stream",
     "text": [
      " X1  X2  Linear Combination  Activation Output Correct?\n",
      "  0   0                 0.5                  0      Yes\n",
      "  0   1                 0.5                  1      Yes\n",
      "  1   0                 0.5                  1      Yes\n",
      "  1   1                 0.5                  0      Yes\n"
     ]
    }
   ],
   "source": [
    "# Based on: https://www.geeksforgeeks.org/implementation-of-perceptron-algorithm-for-xor-logic-gate-with-2-bit-binary-input/\n",
    "\n",
    "# define Unit Step Function \n",
    "def unitStep(y): \n",
    "    if y >= 0: \n",
    "        return 1\n",
    "    else: \n",
    "        return 0\n",
    "  \n",
    "# design Perceptron Model \n",
    "def perceptronModel(x, w, b): \n",
    "    v = np.dot(w, x) + b \n",
    "    y = unitStep(v) \n",
    "    return y \n",
    "  \n",
    "# NOT Logic Function \n",
    "# w = -1, b = 0.5 \n",
    "def NOT_logicFunction(x): \n",
    "    wNOT = -1\n",
    "    bNOT = 0.5\n",
    "    return perceptronModel(x, wNOT, bNOT) \n",
    "  \n",
    "# AND Logic Function \n",
    "# w1 = 1, w2 = 1, b = -2\n",
    "def AND_logicFunction(x): \n",
    "    w = np.array([1, 1]) \n",
    "    bAND = -1.5\n",
    "    return perceptronModel(x, w, bAND) \n",
    "  \n",
    "# OR Logic Function \n",
    "# w1 = 1, w2 = 1, b = -1\n",
    "def OR_logicFunction(x): \n",
    "    w = np.array([1, 1]) \n",
    "    bOR = -0.5\n",
    "    return perceptronModel(x, w, bOR) \n",
    "  \n",
    "# XOR Logic Function \n",
    "# with AND, OR and NOT   \n",
    "# function calls in sequence \n",
    "def XOR_logicFunction(x): \n",
    "    y1 = AND_logicFunction(x) \n",
    "    y2 = OR_logicFunction(x) \n",
    "    y3 = NOT_logicFunction(y1) \n",
    "    final_x = np.array([y2, y3]) \n",
    "    finalOutput = AND_logicFunction(final_x) \n",
    "    return finalOutput  \n",
    "\n",
    "# Input and Outputs\n",
    "test_inputs = [(0, 0), (0, 1), (1, 0), (1, 1)]\n",
    "test_outputs = [0, 1, 1, 0]\n",
    "outputs = []\n",
    "\n",
    "for test_input, test_output in zip(test_inputs, test_outputs):\n",
    "\n",
    "    # Linear Combination\n",
    "    y1 = AND_logicFunction(np.array((test_input[0],test_input[1]))) \n",
    "    y2 = OR_logicFunction(np.array((test_input[0],test_input[1]))) \n",
    "    y3 = NOT_logicFunction(y1) \n",
    "    final_x = np.array([y2, y3]) \n",
    "    \n",
    "    # Activation Function (Step Function)\n",
    "    output = AND_logicFunction(final_x) \n",
    "    \n",
    "    # Save if the prediction is correct ('Yes') or not ('No')\n",
    "    is_correct_string = 'Yes' if output == test_output else 'No'\n",
    "    outputs.append([test_input[0], test_input[1], linear_combination, output, is_correct_string])\n",
    "    \n",
    "output_frame = pd.DataFrame(outputs, columns=['X1', 'X2', 'Linear Combination', 'Activation Output', 'Correct?'])\n",
    "\n",
    "print(output_frame.to_string(index=False))"
   ]
  },
  {
   "cell_type": "markdown",
   "metadata": {
    "id": "znEm-VGJbqBE"
   },
   "source": [
    "## 3. Perceptron Model\n",
    "\n",
    "The implementation of the Perceptron of this activity will be done by using an Object Oriented Programming style. Consider the following class."
   ]
  },
  {
   "cell_type": "code",
   "execution_count": 6,
   "metadata": {
    "id": "vduArJBPbqBE"
   },
   "outputs": [],
   "source": [
    "class perceptron:\n",
    "    \n",
    "    \"\"\"\n",
    "    <Percepton classification model>\n",
    "    \"\"\"\n",
    "    \n",
    "    def __init__(self, n_inputs, max_iterations=50, learning_rate=0.01):\n",
    "        \"\"\"\n",
    "        <Initialize perceptron class with the following parameters and attributes>\n",
    "        \n",
    "        Input:\n",
    "        <n_inputs: how many weights we need to learn.>\n",
    "        <max_iterations: max. number of iterations before stop>\n",
    "        <learning_rate: size of the learning rate for each step>\n",
    "        \n",
    "        Output:\n",
    "        <nothing>\n",
    "        \"\"\"\n",
    "        self.max_iterations = max_iterations\n",
    "        self.n_inputs = n_inputs \n",
    "\n",
    "        self.weights = np.zeros((n_inputs, 1))\n",
    "        self.bias = 0\n",
    "        self.learning_rate = learning_rate\n",
    "\n",
    "        \n",
    "    def prediction(self, inputs):\n",
    "        \"\"\"\n",
    "        <Compute the value of discriminant function, then uses activation function for each row during iteration>\n",
    "        \n",
    "        Input:\n",
    "        <inputs: input vector data row>\n",
    "        \n",
    "        Output:\n",
    "        <activation: predicted label>\n",
    "        \"\"\"\n",
    "        # Compute discriminant function value\n",
    "        #print(inputs.shape, self.weights.shape)\n",
    "        g = np.dot(inputs, self.weights) + self.bias\n",
    "        #print(g)\n",
    "        #print(g.shape)\n",
    "        \n",
    "        # Compute activation function\n",
    "        activation = 1 if g >= 0 else 0\n",
    "        \n",
    "        return activation\n",
    "\n",
    "    def predict(self, Xtest):\n",
    "        \"\"\"\n",
    "        <Compute the predicted labels for a given test data>\n",
    "\n",
    "        Input:\n",
    "        <inputs: input vector data array>\n",
    "        \n",
    "        Output:\n",
    "        <activation: predicted labels array>\n",
    "        \"\"\"\n",
    "        predicted_values=np.zeros((Xtest.shape[0], 1))\n",
    "\n",
    "        for i, Xrow in enumerate(Xtest):\n",
    "          y_hat = self.prediction(Xrow)\n",
    "          predicted_values[i] = y_hat\n",
    "        \n",
    "        return predicted_values\n",
    "    \n",
    "    def fit(self, train_inputs, train_labels):\n",
    "        from sklearn.metrics import accuracy_score\n",
    "        \"\"\"\n",
    "        <Apply The Perceptron Algorithm in order to obtain the best values for the weight vector and bias>\n",
    "        \n",
    "        Input:\n",
    "        <train_inputs: train input set to be predicted>\n",
    "        <train_labels: true prediction label set>\n",
    "        \n",
    "        Output:\n",
    "        <Best values for self.weight vector and self.bias>\n",
    "        \"\"\"\n",
    "        self.error_rate_list = []\n",
    "\n",
    "        for epoch in range(self.max_iterations):\n",
    "          for input, label in zip(train_inputs, train_labels):\n",
    "            y_hat = self.prediction(input) \n",
    "            #print(y_hat)\n",
    "            self.weights += self.learning_rate*(label - y_hat)*input.reshape(-1,1)\n",
    "            self.bias += self.learning_rate*(label - y_hat)  \n",
    "          #print('current epoch: ', epoch)\n",
    "          #print('current weights: ', self.weights)\n",
    "          #print('missing items: ',)\n",
    "          self.error_rate_list.append(1-accuracy_score(np.array(train_labels), np.array(self.predict(train_inputs)))) # Compute error rate per epoch"
   ]
  },
  {
   "cell_type": "code",
   "execution_count": 7,
   "metadata": {
    "id": "PrCy-I66Cw84"
   },
   "outputs": [],
   "source": [
    "#np.dot([-0.5, 0.5], model.weights) + model.bias"
   ]
  },
  {
   "cell_type": "markdown",
   "metadata": {
    "id": "ix38YFzlbqBF"
   },
   "source": [
    "**T5.** Complete the function `__init__(self, n_inputs, max_iterations=200, learning_rate=0.01`. It should be initialized `self.weight` as a vector with zero values and `self.bias` to zero.\n",
    "\n",
    "**T6.** Complete the function `Perceptron.fit(self, train_inputs, train_labels)`. The function should inputs `train_inputs` and `train_labels`. The function should apply *The Perceptron Algorithm* in order to obtain the best values for the weight vector and bias. Observe that the class has the following attributes `max_iterations` and `learning_rate`. After each epoch (iteration) print the current *epoch*, *learning_rate* and *missing* items.\n",
    "\n",
    "**T7.** Complete the function `Perceptron.predict(self, inputs)` which should return the predicted values for all instances in `inputs`.\n",
    "\n",
    "You can create \"private\" methods and attributes.\n",
    "\n",
    "**T8.** In the following sections **A. Perceptron OR**, **A. Perceptron OR**, **A. Perceptron OR**, **A. Perceptron OR** train a perceptron model in order to acts as the corresponding logical gate. Do you need 200 iterations? Modify the `max_iterations`if you need it.\n",
    "\n",
    "In each case print the corresponding *weights* and *bias."
   ]
  },
  {
   "cell_type": "markdown",
   "metadata": {
    "id": "arn7KxGubqBF"
   },
   "source": [
    "### A. Perceptron OR"
   ]
  },
  {
   "cell_type": "code",
   "execution_count": 8,
   "metadata": {
    "id": "RsCNvaPMbqBG"
   },
   "outputs": [],
   "source": [
    "# Create the perceptron model for the gate OR.\n",
    "perceptron_or = perceptron(n_inputs=2)"
   ]
  },
  {
   "cell_type": "code",
   "execution_count": 9,
   "metadata": {
    "id": "IjhMgODZbqBG"
   },
   "outputs": [],
   "source": [
    "# Input and Outputs\n",
    "test_inputs_or = [(0, 0), (0, 1), (1, 0), (1, 1)]\n",
    "test_inputs_or = np.array(test_inputs_or)\n",
    "\n",
    "test_outputs_or = np.array([0, 1, 1, 1])"
   ]
  },
  {
   "cell_type": "code",
   "execution_count": 10,
   "metadata": {
    "id": "nKrN6RJFbqBG"
   },
   "outputs": [],
   "source": [
    "# Training\n",
    "perceptron_or.fit(test_inputs_or, test_outputs_or)"
   ]
  },
  {
   "cell_type": "code",
   "execution_count": 11,
   "metadata": {
    "colab": {
     "base_uri": "https://localhost:8080/"
    },
    "id": "J_hGmLFt6kr1",
    "outputId": "7f039185-7a0b-4833-fb4e-89affcf4f688"
   },
   "outputs": [
    {
     "name": "stdout",
     "output_type": "stream",
     "text": [
      "(0,0):  0\n",
      "(0,1):  1\n",
      "(1,0):  1\n",
      "(1,1):  1\n"
     ]
    }
   ],
   "source": [
    "# Predict\n",
    "print('(0,0): ',perceptron_or.prediction([0,0]))\n",
    "print('(0,1): ',perceptron_or.prediction([0,1]))\n",
    "print('(1,0): ',perceptron_or.prediction([1,0]))\n",
    "print('(1,1): ',perceptron_or.prediction([1,1]))"
   ]
  },
  {
   "cell_type": "code",
   "execution_count": 12,
   "metadata": {
    "colab": {
     "base_uri": "https://localhost:8080/"
    },
    "id": "iQ2f9eoUbqBG",
    "outputId": "dd708d98-1488-46e5-8b6d-7104c6a5278a"
   },
   "outputs": [
    {
     "name": "stdout",
     "output_type": "stream",
     "text": [
      "weights:  [[0.01]\n",
      " [0.01]]\n",
      "bias:  -0.01\n"
     ]
    }
   ],
   "source": [
    "# Print the weights and bias\n",
    "print('weights: ', perceptron_or.weights)\n",
    "print('bias: ', perceptron_or.bias)"
   ]
  },
  {
   "cell_type": "markdown",
   "metadata": {
    "id": "PNp7lYZP9qoV"
   },
   "source": [
    "### B. Perceptron AND"
   ]
  },
  {
   "cell_type": "code",
   "execution_count": 13,
   "metadata": {
    "id": "Z_gbDf5l9qoV"
   },
   "outputs": [],
   "source": [
    "# Create the perceptron model for the gate OR.\n",
    "perceptron_and = perceptron(n_inputs=2)"
   ]
  },
  {
   "cell_type": "code",
   "execution_count": 14,
   "metadata": {
    "id": "-oCdxuk79qoV"
   },
   "outputs": [],
   "source": [
    "# Input and Outputs\n",
    "test_inputs_and = [(0, 0), (0, 1), (1, 0), (1, 1)]\n",
    "test_inputs_and = np.array(test_inputs_and)\n",
    "\n",
    "test_outputs_and = np.array([0, 0, 0, 1])"
   ]
  },
  {
   "cell_type": "code",
   "execution_count": 15,
   "metadata": {
    "id": "t5R3-uKz9qoW"
   },
   "outputs": [],
   "source": [
    "# Training\n",
    "perceptron_and.fit(test_inputs_and, test_outputs_and)"
   ]
  },
  {
   "cell_type": "code",
   "execution_count": 16,
   "metadata": {
    "colab": {
     "base_uri": "https://localhost:8080/"
    },
    "id": "akeNgQgg9qoW",
    "outputId": "ac69bf92-5a94-4cac-f459-f12ad87d1351"
   },
   "outputs": [
    {
     "name": "stdout",
     "output_type": "stream",
     "text": [
      "(0,0):  0\n",
      "(0,1):  0\n",
      "(1,0):  0\n",
      "(1,1):  1\n"
     ]
    }
   ],
   "source": [
    "# Predict\n",
    "print('(0,0): ',perceptron_and.prediction([0,0]))\n",
    "print('(0,1): ',perceptron_and.prediction([0,1]))\n",
    "print('(1,0): ',perceptron_and.prediction([1,0]))\n",
    "print('(1,1): ',perceptron_and.prediction([1,1]))"
   ]
  },
  {
   "cell_type": "code",
   "execution_count": 17,
   "metadata": {
    "colab": {
     "base_uri": "https://localhost:8080/"
    },
    "id": "ZmhpxzpD9qoW",
    "outputId": "7f35e45e-6ff2-4af1-e964-bd8cc8530098"
   },
   "outputs": [
    {
     "name": "stdout",
     "output_type": "stream",
     "text": [
      "weights:  [[0.02]\n",
      " [0.01]]\n",
      "bias:  -0.03\n"
     ]
    }
   ],
   "source": [
    "# Print the weights and bias\n",
    "print('weights: ', perceptron_and.weights)\n",
    "print('bias: ', perceptron_and.bias)"
   ]
  },
  {
   "cell_type": "markdown",
   "metadata": {
    "id": "VtLClRpO-YJF"
   },
   "source": [
    "### C. Perceptron NOT"
   ]
  },
  {
   "cell_type": "code",
   "execution_count": 18,
   "metadata": {
    "id": "aA3X1UyC-YJH"
   },
   "outputs": [],
   "source": [
    "# Create the perceptron model for the gate OR.\n",
    "perceptron_not = perceptron(n_inputs=1)"
   ]
  },
  {
   "cell_type": "code",
   "execution_count": 19,
   "metadata": {
    "id": "mpMlnvvw-YJH"
   },
   "outputs": [],
   "source": [
    "# Input and Outputs\n",
    "test_inputs_not = [0, 1]\n",
    "test_inputs_not = np.array(test_inputs_not)\n",
    "\n",
    "test_outputs_not = np.array([1,0])"
   ]
  },
  {
   "cell_type": "code",
   "execution_count": 20,
   "metadata": {
    "id": "LuB-dqbT-YJH"
   },
   "outputs": [],
   "source": [
    "# Training\n",
    "perceptron_not.fit(test_inputs_not, test_outputs_not)"
   ]
  },
  {
   "cell_type": "code",
   "execution_count": 21,
   "metadata": {
    "colab": {
     "base_uri": "https://localhost:8080/"
    },
    "id": "NhHF0j21-YJI",
    "outputId": "e1fc17f7-0803-4038-9208-405b01c3bfad"
   },
   "outputs": [
    {
     "name": "stdout",
     "output_type": "stream",
     "text": [
      "(0):  1\n",
      "(1):  0\n",
      "(-1):  1\n",
      "(2):  0\n"
     ]
    }
   ],
   "source": [
    "# Predict\n",
    "print('(0): ',perceptron_not.prediction([0]))\n",
    "print('(1): ',perceptron_not.prediction([1]))\n",
    "print('(-1): ',perceptron_not.prediction([-1]))\n",
    "print('(2): ',perceptron_not.prediction([2]))"
   ]
  },
  {
   "cell_type": "code",
   "execution_count": 22,
   "metadata": {
    "colab": {
     "base_uri": "https://localhost:8080/"
    },
    "id": "EsMx4eYN-YJI",
    "outputId": "edd6769e-0880-4824-8220-6522f45f773e"
   },
   "outputs": [
    {
     "name": "stdout",
     "output_type": "stream",
     "text": [
      "weights:  [[-0.01]]\n",
      "bias:  0.0\n"
     ]
    }
   ],
   "source": [
    "# Print the weights and bias\n",
    "print('weights: ', perceptron_not.weights)\n",
    "print('bias: ', perceptron_not.bias)"
   ]
  },
  {
   "cell_type": "markdown",
   "metadata": {
    "id": "UsYK9IDDAbkE"
   },
   "source": [
    "### D. Perceptron XOR"
   ]
  },
  {
   "cell_type": "code",
   "execution_count": 23,
   "metadata": {
    "id": "qEZddOcGAbkF"
   },
   "outputs": [],
   "source": [
    "# Create the perceptron model for the gate OR.\n",
    "perceptron_xor = perceptron(n_inputs=2)"
   ]
  },
  {
   "cell_type": "code",
   "execution_count": 24,
   "metadata": {
    "id": "-8SihWLkAbkF"
   },
   "outputs": [],
   "source": [
    "# Input and Outputs\n",
    "test_inputs_xor = [(0, 0), (0, 1), (1, 0), (1, 1)]\n",
    "test_inputs_xor = np.array(test_inputs_xor)\n",
    "\n",
    "test_outputs_xor = np.array([0, 1, 1, 0])"
   ]
  },
  {
   "cell_type": "code",
   "execution_count": 25,
   "metadata": {
    "id": "3gEnIraoAbkF"
   },
   "outputs": [],
   "source": [
    "# Training\n",
    "perceptron_xor.fit(test_inputs_xor, test_outputs_xor)"
   ]
  },
  {
   "cell_type": "code",
   "execution_count": 26,
   "metadata": {
    "colab": {
     "base_uri": "https://localhost:8080/"
    },
    "id": "m7_vCPtaAbkG",
    "outputId": "deafc1dc-92ca-43f8-f0d7-3fb6fa6c33af"
   },
   "outputs": [
    {
     "name": "stdout",
     "output_type": "stream",
     "text": [
      "(0,0):  1\n",
      "(0,1):  1\n",
      "(1,0):  0\n",
      "(1,1):  0\n"
     ]
    }
   ],
   "source": [
    "# Predict\n",
    "print('(0,0): ',perceptron_xor.prediction([0,0]))\n",
    "print('(0,1): ',perceptron_xor.prediction([0,1]))\n",
    "print('(1,0): ',perceptron_xor.prediction([1,0]))\n",
    "print('(1,1): ',perceptron_xor.prediction([1,1]))"
   ]
  },
  {
   "cell_type": "code",
   "execution_count": 27,
   "metadata": {
    "colab": {
     "base_uri": "https://localhost:8080/"
    },
    "id": "cTOPgruRAbkG",
    "outputId": "a1934722-fe7d-4464-fc44-6dabe47be18f"
   },
   "outputs": [
    {
     "name": "stdout",
     "output_type": "stream",
     "text": [
      "weights:  [[-0.01]\n",
      " [ 0.  ]]\n",
      "bias:  0.0\n"
     ]
    }
   ],
   "source": [
    "# Print the weights and bias\n",
    "print('weights: ', perceptron_xor.weights)\n",
    "print('bias: ', perceptron_xor.bias)"
   ]
  },
  {
   "cell_type": "markdown",
   "metadata": {
    "id": "ie6J3cvRbqBK"
   },
   "source": [
    "## 4. Classification\n",
    "\n",
    "The Iris Dataset is one of the most known in the literature. You already worked with this dataset in NB3.1 K Nearest Neighbors. The common goal of this dataset is to predict the type of plant based on the features. One of the classes is linearly separable but the rest are not [[3](https://archive.ics.uci.edu/ml/datasets/iris)]."
   ]
  },
  {
   "cell_type": "code",
   "execution_count": 28,
   "metadata": {
    "id": "TmXWEC9WbqBK"
   },
   "outputs": [],
   "source": [
    "iris = datasets.load_iris()\n",
    "irisDF = pd.DataFrame(iris.data, columns=iris.feature_names)\n",
    "irisDF[\"target\"] = iris.target"
   ]
  },
  {
   "cell_type": "code",
   "execution_count": 29,
   "metadata": {
    "colab": {
     "base_uri": "https://localhost:8080/",
     "height": 202
    },
    "id": "hgbmtf_NbqBK",
    "outputId": "37d2294c-506a-4fb4-e9ab-d39f51ff908b",
    "scrolled": false
   },
   "outputs": [
    {
     "data": {
      "text/html": [
       "<div>\n",
       "<style scoped>\n",
       "    .dataframe tbody tr th:only-of-type {\n",
       "        vertical-align: middle;\n",
       "    }\n",
       "\n",
       "    .dataframe tbody tr th {\n",
       "        vertical-align: top;\n",
       "    }\n",
       "\n",
       "    .dataframe thead th {\n",
       "        text-align: right;\n",
       "    }\n",
       "</style>\n",
       "<table border=\"1\" class=\"dataframe\">\n",
       "  <thead>\n",
       "    <tr style=\"text-align: right;\">\n",
       "      <th></th>\n",
       "      <th>sepal length (cm)</th>\n",
       "      <th>sepal width (cm)</th>\n",
       "      <th>petal length (cm)</th>\n",
       "      <th>petal width (cm)</th>\n",
       "      <th>target</th>\n",
       "    </tr>\n",
       "  </thead>\n",
       "  <tbody>\n",
       "    <tr>\n",
       "      <th>0</th>\n",
       "      <td>5.1</td>\n",
       "      <td>3.5</td>\n",
       "      <td>1.4</td>\n",
       "      <td>0.2</td>\n",
       "      <td>0</td>\n",
       "    </tr>\n",
       "    <tr>\n",
       "      <th>1</th>\n",
       "      <td>4.9</td>\n",
       "      <td>3.0</td>\n",
       "      <td>1.4</td>\n",
       "      <td>0.2</td>\n",
       "      <td>0</td>\n",
       "    </tr>\n",
       "    <tr>\n",
       "      <th>2</th>\n",
       "      <td>4.7</td>\n",
       "      <td>3.2</td>\n",
       "      <td>1.3</td>\n",
       "      <td>0.2</td>\n",
       "      <td>0</td>\n",
       "    </tr>\n",
       "    <tr>\n",
       "      <th>3</th>\n",
       "      <td>4.6</td>\n",
       "      <td>3.1</td>\n",
       "      <td>1.5</td>\n",
       "      <td>0.2</td>\n",
       "      <td>0</td>\n",
       "    </tr>\n",
       "    <tr>\n",
       "      <th>4</th>\n",
       "      <td>5.0</td>\n",
       "      <td>3.6</td>\n",
       "      <td>1.4</td>\n",
       "      <td>0.2</td>\n",
       "      <td>0</td>\n",
       "    </tr>\n",
       "  </tbody>\n",
       "</table>\n",
       "</div>"
      ],
      "text/plain": [
       "   sepal length (cm)  sepal width (cm)  ...  petal width (cm)  target\n",
       "0                5.1               3.5  ...               0.2       0\n",
       "1                4.9               3.0  ...               0.2       0\n",
       "2                4.7               3.2  ...               0.2       0\n",
       "3                4.6               3.1  ...               0.2       0\n",
       "4                5.0               3.6  ...               0.2       0\n",
       "\n",
       "[5 rows x 5 columns]"
      ]
     },
     "execution_count": 29,
     "metadata": {
      "tags": []
     },
     "output_type": "execute_result"
    }
   ],
   "source": [
    "irisDF.head()"
   ]
  },
  {
   "cell_type": "markdown",
   "metadata": {
    "id": "sEHYPWY6bqBL"
   },
   "source": [
    "Observe that the target variable corrrespond to 0 for setosa, 1 for versicolor and 2 for virginica.\n",
    "\n",
    "**T9.** Complete the following preprocessing steps:\n",
    "* Select the columns `petal length (cm)` and `petal width (cm)`.\n",
    "* Standardize the input variables."
   ]
  },
  {
   "cell_type": "code",
   "execution_count": 30,
   "metadata": {
    "colab": {
     "base_uri": "https://localhost:8080/",
     "height": 202
    },
    "id": "enlMRNnubqBL",
    "outputId": "13a0cf5e-028c-41e3-bcc8-8f87d799b282"
   },
   "outputs": [
    {
     "data": {
      "text/html": [
       "<div>\n",
       "<style scoped>\n",
       "    .dataframe tbody tr th:only-of-type {\n",
       "        vertical-align: middle;\n",
       "    }\n",
       "\n",
       "    .dataframe tbody tr th {\n",
       "        vertical-align: top;\n",
       "    }\n",
       "\n",
       "    .dataframe thead th {\n",
       "        text-align: right;\n",
       "    }\n",
       "</style>\n",
       "<table border=\"1\" class=\"dataframe\">\n",
       "  <thead>\n",
       "    <tr style=\"text-align: right;\">\n",
       "      <th></th>\n",
       "      <th>petal length (cm)</th>\n",
       "      <th>petal width (cm)</th>\n",
       "      <th>target</th>\n",
       "    </tr>\n",
       "  </thead>\n",
       "  <tbody>\n",
       "    <tr>\n",
       "      <th>0</th>\n",
       "      <td>-1.340227</td>\n",
       "      <td>-1.315444</td>\n",
       "      <td>0</td>\n",
       "    </tr>\n",
       "    <tr>\n",
       "      <th>1</th>\n",
       "      <td>-1.340227</td>\n",
       "      <td>-1.315444</td>\n",
       "      <td>0</td>\n",
       "    </tr>\n",
       "    <tr>\n",
       "      <th>2</th>\n",
       "      <td>-1.397064</td>\n",
       "      <td>-1.315444</td>\n",
       "      <td>0</td>\n",
       "    </tr>\n",
       "    <tr>\n",
       "      <th>3</th>\n",
       "      <td>-1.283389</td>\n",
       "      <td>-1.315444</td>\n",
       "      <td>0</td>\n",
       "    </tr>\n",
       "    <tr>\n",
       "      <th>4</th>\n",
       "      <td>-1.340227</td>\n",
       "      <td>-1.315444</td>\n",
       "      <td>0</td>\n",
       "    </tr>\n",
       "  </tbody>\n",
       "</table>\n",
       "</div>"
      ],
      "text/plain": [
       "   petal length (cm)  petal width (cm)  target\n",
       "0          -1.340227         -1.315444       0\n",
       "1          -1.340227         -1.315444       0\n",
       "2          -1.397064         -1.315444       0\n",
       "3          -1.283389         -1.315444       0\n",
       "4          -1.340227         -1.315444       0"
      ]
     },
     "execution_count": 30,
     "metadata": {
      "tags": []
     },
     "output_type": "execute_result"
    }
   ],
   "source": [
    "from sklearn.preprocessing import StandardScaler\n",
    "\n",
    "# Select Columns\n",
    "irisDF_selected = irisDF[['petal length (cm)', 'petal width (cm)']]\n",
    "\n",
    "# fit the scaler \n",
    "scaler = StandardScaler()\n",
    "scaler.fit(irisDF_selected)\n",
    "std_iris = scaler.transform(irisDF_selected)\n",
    "std_iris_df = pd.DataFrame(std_iris, columns = ['petal length (cm)', 'petal width (cm)'])\n",
    "std_iris_df['target'] = irisDF['target']\n",
    "std_iris_df.head()"
   ]
  },
  {
   "cell_type": "markdown",
   "metadata": {
    "id": "2r2oUuiHbqBL"
   },
   "source": [
    "**T10.** Make a scatter plot of `petal width (cm)` (y-axis) vs `petal length (cm)` (x-axis). The data points must be colored according to the target variable."
   ]
  },
  {
   "cell_type": "code",
   "execution_count": 31,
   "metadata": {
    "colab": {
     "base_uri": "https://localhost:8080/",
     "height": 225
    },
    "id": "XMaAo2jUbqBL",
    "outputId": "69f4f07d-8a4c-48c3-cbb1-7aad8ea6c1e5"
   },
   "outputs": [
    {
     "data": {
      "image/png": "[encoded data removed]",
      "text/plain": [
       "<Figure size 258.375x216 with 1 Axes>"
      ]
     },
     "metadata": {
      "needs_background": "light",
      "tags": []
     },
     "output_type": "display_data"
    }
   ],
   "source": [
    "import seaborn as sns\n",
    "\n",
    "g = sns.FacetGrid(std_iris_df, hue='target')\n",
    "g = g.map(plt.scatter, \"petal length (cm)\", \"petal width (cm)\")\n",
    "g = g.add_legend()\n",
    "plt.show()"
   ]
  },
  {
   "cell_type": "markdown",
   "metadata": {
    "id": "qvZWZnyKbqBL"
   },
   "source": [
    "## A. Linearly Separable Case\n",
    "\n",
    "Consider that you want to create a model to classify leaves into setosa and not-setosa. As you can observe in **T10.**, those classes are linearly separable.\n",
    "\n",
    "**T11.** Train a Perceptron which classify each instante into setosa (1) and not-setosa (0). In order to fulfill this tasks, consider the following:\n",
    "* Modify the *target* column such that it contains a 1 if the leaf correspond to a setosa plant or 0 if does not correspond to a setosa plat (virginica or versicolor).\n",
    "* Split the dataset into train and test sets. Do not forget make it in a stratified way!\n",
    "* Create and fit a Perceptron Model to the Train Test.\n",
    "* Evaluate the Model with the test set. Present the Confusion Matrix and Accuracy of the Model. "
   ]
  },
  {
   "cell_type": "code",
   "execution_count": 32,
   "metadata": {
    "id": "25CsOAgf4Cw6"
   },
   "outputs": [],
   "source": [
    "# Modification of target column\n",
    "bin_iris_df = std_iris_df\n",
    "\n",
    "binarization = lambda x: 1 if x == 0 else 0\n",
    "\n",
    "bin_iris_df['target'] = bin_iris_df['target'].apply(binarization)"
   ]
  },
  {
   "cell_type": "code",
   "execution_count": 33,
   "metadata": {
    "colab": {
     "base_uri": "https://localhost:8080/",
     "height": 225
    },
    "id": "Ag0aleQzbqBL",
    "outputId": "2b5137da-5c8d-4109-e6a6-95202b3796f5"
   },
   "outputs": [
    {
     "data": {
      "image/png": "[encoded data removed]",
      "text/plain": [
       "<Figure size 258.375x216 with 1 Axes>"
      ]
     },
     "metadata": {
      "needs_background": "light",
      "tags": []
     },
     "output_type": "display_data"
    }
   ],
   "source": [
    "# Original Label Data\n",
    "g = sns.FacetGrid(bin_iris_df, hue='target')\n",
    "g = g.map(plt.scatter, \"petal length (cm)\", \"petal width (cm)\")\n",
    "g = g.add_legend()\n",
    "\n",
    "plt.show()"
   ]
  },
  {
   "cell_type": "code",
   "execution_count": 34,
   "metadata": {
    "id": "tCpLVCUxUWRf"
   },
   "outputs": [],
   "source": [
    "# Stratified Data Split\n",
    "from sklearn.model_selection import train_test_split\n",
    "\n",
    "data_train, data_test, target_train, target_test = train_test_split(bin_iris_df[['petal length (cm)', 'petal width (cm)']], \n",
    "                                                                    bin_iris_df['target'].to_numpy(), \n",
    "                                                                    test_size=0.3, \n",
    "                                                                    stratify=bin_iris_df['target'],\n",
    "                                                                    random_state=0)"
   ]
  },
  {
   "cell_type": "code",
   "execution_count": 35,
   "metadata": {
    "id": "AZTd17nIWfY-"
   },
   "outputs": [],
   "source": [
    "# Perceptron Model\n",
    "model = perceptron(n_inputs=2, learning_rate=0.01)\n",
    "model.fit(np.array(data_train), np.array(target_train))\n",
    "predicted_values = model.predict(np.array(data_test))"
   ]
  },
  {
   "cell_type": "code",
   "execution_count": 36,
   "metadata": {
    "colab": {
     "base_uri": "https://localhost:8080/"
    },
    "id": "R-X5LfNUd9wH",
    "outputId": "6c27e653-4559-4aac-b032-600e7fb03049"
   },
   "outputs": [
    {
     "data": {
      "text/plain": [
       "array([[30,  0],\n",
       "       [ 0, 15]])"
      ]
     },
     "execution_count": 36,
     "metadata": {
      "tags": []
     },
     "output_type": "execute_result"
    }
   ],
   "source": [
    "# Confussion Matrix\n",
    "from sklearn.metrics import confusion_matrix\n",
    "confusion_matrix(target_test, predicted_values)  "
   ]
  },
  {
   "cell_type": "code",
   "execution_count": 37,
   "metadata": {
    "colab": {
     "base_uri": "https://localhost:8080/"
    },
    "id": "xngXgUb1fBag",
    "outputId": "c213425d-3a4c-44ab-cff3-e4c15aef64d7"
   },
   "outputs": [
    {
     "data": {
      "text/plain": [
       "1.0"
      ]
     },
     "execution_count": 37,
     "metadata": {
      "tags": []
     },
     "output_type": "execute_result"
    }
   ],
   "source": [
    "# Accuracy\n",
    "from sklearn.metrics import accuracy_score\n",
    "accuracy_score(target_test, predicted_values) "
   ]
  },
  {
   "cell_type": "code",
   "execution_count": 38,
   "metadata": {
    "colab": {
     "base_uri": "https://localhost:8080/"
    },
    "id": "QavBUSayiIEE",
    "outputId": "5bc3cac9-1e94-4044-8fd5-0075f005107a"
   },
   "outputs": [
    {
     "name": "stdout",
     "output_type": "stream",
     "text": [
      "weights:  [[-0.01728995]\n",
      " [-0.01317199]]\n",
      "bias:  -0.01\n"
     ]
    }
   ],
   "source": [
    "# Weights and bias\n",
    "print('weights: ', model.weights)\n",
    "print('bias: ', model.bias)"
   ]
  },
  {
   "cell_type": "markdown",
   "metadata": {
    "id": "RLLU_IxPbqBM"
   },
   "source": [
    "**T12.** Learning Curves are commonly used to validate the performance of Machine Learning Models. In this context, [2] is an interesting reference that you can read. Make a curve of the **Error Rate** (1 - Accuracy) per epoch. Modify the class in case you need it."
   ]
  },
  {
   "cell_type": "code",
   "execution_count": 39,
   "metadata": {
    "colab": {
     "base_uri": "https://localhost:8080/",
     "height": 404
    },
    "id": "8ocSXkDMbqBM",
    "outputId": "a85dad5d-f921-4361-9fbd-d168dd02e15b"
   },
   "outputs": [
    {
     "data": {
      "image/png": "[encoded data removed]",
      "text/plain": [
       "<Figure size 720x432 with 1 Axes>"
      ]
     },
     "metadata": {
      "needs_background": "light",
      "tags": []
     },
     "output_type": "display_data"
    }
   ],
   "source": [
    "# Error Rate of Test Data over epoch\n",
    "error_rate_list = model.error_rate_list\n",
    "plt.figure(figsize=(10,6))\n",
    "plt.plot(error_rate_list,color = 'blue',linestyle='dashed')\n",
    "plt.title('Error Rate vs. Epoch')\n",
    "plt.xlabel('Epoch')\n",
    "plt.ylabel('Error Rate')\n",
    "plt.show()"
   ]
  },
  {
   "cell_type": "markdown",
   "metadata": {
    "id": "5F6oUdsBbqBM"
   },
   "source": [
    "**T13.** Make a scatter plot of petal width (cm) (y-axis) vs petal length (cm) (x-axis). The data points must be colored according to the target variable (setosa, no-setosa). Also, include the *decision boundary*."
   ]
  },
  {
   "cell_type": "code",
   "execution_count": 40,
   "metadata": {
    "colab": {
     "base_uri": "https://localhost:8080/",
     "height": 228
    },
    "id": "oa_YuNVBbqBM",
    "outputId": "54cffdd1-7aaf-4c84-df31-4b2b1ce85bd4"
   },
   "outputs": [
    {
     "data": {
      "image/png": "[encoded data removed]",
      "text/plain": [
       "<Figure size 216x216 with 1 Axes>"
      ]
     },
     "metadata": {
      "needs_background": "light",
      "tags": []
     },
     "output_type": "display_data"
    }
   ],
   "source": [
    "# Real Label Points vs Predicted Data\n",
    "g = sns.FacetGrid(bin_iris_df, hue='target')\n",
    "g = g.map(plt.scatter, \"petal length (cm)\", \"petal width (cm)\")\n",
    "#g = g.add_legend()\n",
    "\n",
    "# decision boundary\n",
    "x = np.linspace(-1.5,1.5,100)\n",
    "y = (-model.weights[0]*x -model.bias) / model.weights[1]\n",
    "plt.plot(x, y, 'r--', label= 'decision boundary')\n",
    "plt.legend(bbox_to_anchor=(1.1, 1.05), title='Target Labels vs Decision Boundary')\n",
    "\n",
    "\n",
    "plt.show()"
   ]
  },
  {
   "cell_type": "markdown",
   "metadata": {
    "id": "EMplzIeDbqBM"
   },
   "source": [
    "## B. Non Linearly Separable Case\n",
    "\n",
    "Consider that you want to create a model to classify leaves into virginica and no-virginica. As you can observe in **T10.**, those classes are not linearly separable.\n",
    "\n",
    "**T14.** Train a Perceptron which classify each instante into virginica (1) and no-virginica (0). In order to fulfill this tasks, consider the following:\n",
    "* Modify the *target* column such that it contains a 1 if the leaf correspond to a virginica plant or 0 if does not correspond to a virginica plant (setosa or versicolor).\n",
    "* Split the dataset into train and test sets. Do not forget make it in a stratified way!\n",
    "* Create and fit a Perceptron Model to the Train Test.\n",
    "* Evaluate the Model with the test set. Present the Confusion Matrix and Accuracy of the Model. "
   ]
  },
  {
   "cell_type": "code",
   "execution_count": 41,
   "metadata": {
    "colab": {
     "base_uri": "https://localhost:8080/",
     "height": 225
    },
    "id": "zNMmM9AJJ-kX",
    "outputId": "0b5cc1cd-7cc2-4a0c-8e25-3f73150c7b59"
   },
   "outputs": [
    {
     "data": {
      "image/png": "[encoded data removed]",
      "text/plain": [
       "<Figure size 258.375x216 with 1 Axes>"
      ]
     },
     "metadata": {
      "needs_background": "light",
      "tags": []
     },
     "output_type": "display_data"
    }
   ],
   "source": [
    "# Original Labeled Data\n",
    "std_iris_df = pd.DataFrame(std_iris, columns = ['petal length (cm)', 'petal width (cm)'])\n",
    "std_iris_df['target'] = irisDF['target']\n",
    "\n",
    "g = sns.FacetGrid(std_iris_df, hue='target')\n",
    "g = g.map(plt.scatter, \"petal length (cm)\", \"petal width (cm)\")\n",
    "g = g.add_legend()\n",
    "plt.show()"
   ]
  },
  {
   "cell_type": "code",
   "execution_count": 42,
   "metadata": {
    "colab": {
     "base_uri": "https://localhost:8080/",
     "height": 225
    },
    "id": "79WCAkAObqBM",
    "outputId": "f5a3285f-25ae-4d05-ec2a-d781f42d0482"
   },
   "outputs": [
    {
     "data": {
      "image/png": "[encoded data removed]",
      "text/plain": [
       "<Figure size 258.375x216 with 1 Axes>"
      ]
     },
     "metadata": {
      "needs_background": "light",
      "tags": []
     },
     "output_type": "display_data"
    }
   ],
   "source": [
    "# Modification of target column\n",
    "bin_iris_df = std_iris_df\n",
    "\n",
    "binarization = lambda x: 1 if x == 2 else 0\n",
    "\n",
    "bin_iris_df['target'] = bin_iris_df['target'].apply(binarization)\n",
    "\n",
    "g = sns.FacetGrid(bin_iris_df, hue='target')\n",
    "g = g.map(plt.scatter, \"petal length (cm)\", \"petal width (cm)\")\n",
    "g = g.add_legend()\n",
    "\n",
    "plt.show()"
   ]
  },
  {
   "cell_type": "code",
   "execution_count": 43,
   "metadata": {
    "id": "bJzxfy1MLoEj"
   },
   "outputs": [],
   "source": [
    "# Stratified Data Split\n",
    "data_train, data_test, target_train, target_test = train_test_split(bin_iris_df[['petal length (cm)', 'petal width (cm)']], \n",
    "                                                                    bin_iris_df['target'].to_numpy(), \n",
    "                                                                    test_size=0.3, \n",
    "                                                                    stratify=bin_iris_df['target'],\n",
    "                                                                    random_state=0)"
   ]
  },
  {
   "cell_type": "code",
   "execution_count": 44,
   "metadata": {
    "id": "-EG5mfihLuSu"
   },
   "outputs": [],
   "source": [
    "# Perceptron Model\n",
    "model = perceptron(n_inputs=2, learning_rate=0.1)\n",
    "model.fit(np.array(data_train), np.array(target_train))\n",
    "predicted_values = model.predict(np.array(data_test))"
   ]
  },
  {
   "cell_type": "code",
   "execution_count": 45,
   "metadata": {
    "colab": {
     "base_uri": "https://localhost:8080/"
    },
    "id": "ANaX_rFXL22P",
    "outputId": "cf057f07-2097-434a-de69-339cd17ccaba"
   },
   "outputs": [
    {
     "data": {
      "text/plain": [
       "array([[27,  3],\n",
       "       [ 0, 15]])"
      ]
     },
     "execution_count": 45,
     "metadata": {
      "tags": []
     },
     "output_type": "execute_result"
    }
   ],
   "source": [
    "# Confussion Matrix\n",
    "confusion_matrix(target_test, predicted_values)  "
   ]
  },
  {
   "cell_type": "code",
   "execution_count": 46,
   "metadata": {
    "colab": {
     "base_uri": "https://localhost:8080/"
    },
    "id": "IFPPXQrvL4NQ",
    "outputId": "07d0e820-8927-436e-fd1a-9848c36460c0"
   },
   "outputs": [
    {
     "data": {
      "text/plain": [
       "0.9333333333333333"
      ]
     },
     "execution_count": 46,
     "metadata": {
      "tags": []
     },
     "output_type": "execute_result"
    }
   ],
   "source": [
    "# Accuracy\n",
    "accuracy_score(target_test, predicted_values) "
   ]
  },
  {
   "cell_type": "code",
   "execution_count": 47,
   "metadata": {
    "colab": {
     "base_uri": "https://localhost:8080/"
    },
    "id": "tqBl2_AIMAb8",
    "outputId": "3480bde0-3f15-48ce-e218-48bea31513c2"
   },
   "outputs": [
    {
     "name": "stdout",
     "output_type": "stream",
     "text": [
      "weights:  [[0.36557833]\n",
      " [0.38138232]]\n",
      "bias:  -0.4\n"
     ]
    }
   ],
   "source": [
    "# Weights and bias\n",
    "print('weights: ', model.weights)\n",
    "print('bias: ', model.bias)"
   ]
  },
  {
   "cell_type": "markdown",
   "metadata": {
    "id": "et53kb4tbqBN"
   },
   "source": [
    "**T15.** Make a curve of the **Error Rate** (1 - Accuracy) per epoch. Modify the class in case you need it. What do you expect in this case? What can you observe in this case?"
   ]
  },
  {
   "cell_type": "code",
   "execution_count": 48,
   "metadata": {
    "colab": {
     "base_uri": "https://localhost:8080/",
     "height": 404
    },
    "id": "ivx2xTQSbqBN",
    "outputId": "be4869bf-8850-436e-e050-bc5d9d2a8d2c"
   },
   "outputs": [
    {
     "data": {
      "image/png": "[encoded data removed]",
      "text/plain": [
       "<Figure size 720x432 with 1 Axes>"
      ]
     },
     "metadata": {
      "needs_background": "light",
      "tags": []
     },
     "output_type": "display_data"
    }
   ],
   "source": [
    "# test data erorr rate over epoch\n",
    "error_rate_list = model.error_rate_list\n",
    "plt.figure(figsize=(10,6))\n",
    "plt.plot(error_rate_list,color = 'blue',linestyle='dashed')\n",
    "plt.title('Error Rate vs. Epoch')\n",
    "plt.xlabel('Epoch')\n",
    "plt.ylabel('Error Rate')\n",
    "plt.show()"
   ]
  },
  {
   "cell_type": "markdown",
   "metadata": {
    "id": "EZ_xtC3MbqBN"
   },
   "source": [
    "**T16.** Make a scatter plot of petal width (cm) (y-axis) vs petal length (cm) (x-axis). The data points must be colored according to the target variable (setosa, no-setosa). Also, include the *decision boundary*."
   ]
  },
  {
   "cell_type": "code",
   "execution_count": 49,
   "metadata": {
    "colab": {
     "base_uri": "https://localhost:8080/",
     "height": 228
    },
    "id": "BJLsXa5zbqBN",
    "outputId": "5ba7ff3a-7408-4b48-cf24-7e1b04239907"
   },
   "outputs": [
    {
     "data": {
      "image/png": "[encoded data removed]",
      "text/plain": [
       "<Figure size 216x216 with 1 Axes>"
      ]
     },
     "metadata": {
      "needs_background": "light",
      "tags": []
     },
     "output_type": "display_data"
    }
   ],
   "source": [
    "# Real Label vs Predicted \n",
    "g = sns.FacetGrid(bin_iris_df, hue='target')\n",
    "g = g.map(plt.scatter, \"petal length (cm)\", \"petal width (cm)\")\n",
    "#g = g.add_legend()\n",
    "\n",
    "# decision boundary\n",
    "x = np.linspace(-1.5,1.5,100)\n",
    "y = (-model.weights[0]*x -model.bias) / model.weights[1]\n",
    "plt.plot(x, y, 'r--', label= 'decision boundary')\n",
    "plt.legend(bbox_to_anchor=(1.1, 1.05), title='Target Labels vs Decision Boundary')\n",
    "\n",
    "\n",
    "plt.show()"
   ]
  },
  {
   "cell_type": "markdown",
   "metadata": {
    "id": "68Cz3KubbqBN"
   },
   "source": [
    "## C. Perceptron (Scikit-Learn)\n",
    "\n",
    "Scikit-Learn implements a Perceptron Classifier in `sklearn.linear_model.Perceptron`.\n",
    "\n",
    "**T17.** Complete tasks **T11**, **T12** and **T13** but using the Perceptron Model implemented in scikit-learn."
   ]
  },
  {
   "cell_type": "code",
   "execution_count": 50,
   "metadata": {
    "id": "GfzxljcRV7yB"
   },
   "outputs": [],
   "source": [
    "std_iris_df = pd.DataFrame(std_iris, columns = ['petal length (cm)', 'petal width (cm)'])\n",
    "std_iris_df['target'] = irisDF['target']\n",
    "\n",
    "bin_iris_df = std_iris_df\n",
    "\n",
    "binarization = lambda x: 1 if x == 0 else 0 # Setosa (1) Non-setosa (0)\n",
    "\n",
    "bin_iris_df['target'] = bin_iris_df['target'].apply(binarization)\n",
    "\n",
    "# Data Split\n",
    "\n",
    "data_train, data_test, target_train, target_test = train_test_split(bin_iris_df[['petal length (cm)', 'petal width (cm)']], \n",
    "                                                                    bin_iris_df['target'].to_numpy(), \n",
    "                                                                    test_size=0.3, \n",
    "                                                                    stratify=bin_iris_df['target'],\n",
    "                                                                    random_state=0)"
   ]
  },
  {
   "cell_type": "code",
   "execution_count": 51,
   "metadata": {
    "id": "6RaQRY1pbqBN"
   },
   "outputs": [],
   "source": [
    "from sklearn.linear_model import Perceptron\n",
    "\n",
    "# Perceptron Model\n",
    "model = Perceptron(alpha=0.01, max_iter=50)\n",
    "model.fit(np.array(data_train), np.array(target_train))\n",
    "predicted_values = model.predict(np.array(data_test))"
   ]
  },
  {
   "cell_type": "code",
   "execution_count": 52,
   "metadata": {
    "colab": {
     "base_uri": "https://localhost:8080/"
    },
    "id": "fe65AuODRL1_",
    "outputId": "c165bc04-3f14-4d2b-9406-a072cee98d26"
   },
   "outputs": [
    {
     "data": {
      "text/plain": [
       "array([[30,  0],\n",
       "       [ 0, 15]])"
      ]
     },
     "execution_count": 52,
     "metadata": {
      "tags": []
     },
     "output_type": "execute_result"
    }
   ],
   "source": [
    "# Confussion Matrix\n",
    "confusion_matrix(target_test, predicted_values) "
   ]
  },
  {
   "cell_type": "code",
   "execution_count": 53,
   "metadata": {
    "colab": {
     "base_uri": "https://localhost:8080/"
    },
    "id": "s2srRWI3RPLA",
    "outputId": "61565404-311f-40ba-d31a-eef6ad639668"
   },
   "outputs": [
    {
     "data": {
      "text/plain": [
       "1.0"
      ]
     },
     "execution_count": 53,
     "metadata": {
      "tags": []
     },
     "output_type": "execute_result"
    }
   ],
   "source": [
    "# Accuracy\n",
    "accuracy_score(target_test, predicted_values) "
   ]
  },
  {
   "cell_type": "code",
   "execution_count": 54,
   "metadata": {
    "colab": {
     "base_uri": "https://localhost:8080/"
    },
    "id": "eojuUP_IRPUm",
    "outputId": "34bdd1f3-1cb4-4a47-ed69-36a041231870"
   },
   "outputs": [
    {
     "data": {
      "text/plain": [
       "array([[-0.8195957 , -1.44883158]])"
      ]
     },
     "execution_count": 54,
     "metadata": {
      "tags": []
     },
     "output_type": "execute_result"
    }
   ],
   "source": [
    "model.coef_"
   ]
  },
  {
   "cell_type": "code",
   "execution_count": 55,
   "metadata": {
    "colab": {
     "base_uri": "https://localhost:8080/"
    },
    "id": "Wru0p6y3Rsnh",
    "outputId": "d7153815-5fb5-42ce-edce-c8b46ccf8211"
   },
   "outputs": [
    {
     "data": {
      "text/plain": [
       "array([-1.])"
      ]
     },
     "execution_count": 55,
     "metadata": {
      "tags": []
     },
     "output_type": "execute_result"
    }
   ],
   "source": [
    "model.intercept_"
   ]
  },
  {
   "cell_type": "code",
   "execution_count": 56,
   "metadata": {
    "colab": {
     "base_uri": "https://localhost:8080/",
     "height": 632
    },
    "id": "4rPCBVJ2RvTi",
    "outputId": "0ead706e-054a-48d5-afbf-e0a9120bce9f"
   },
   "outputs": [
    {
     "name": "stderr",
     "output_type": "stream",
     "text": [
      "/usr/local/lib/python3.7/dist-packages/sklearn/linear_model/_stochastic_gradient.py:557: ConvergenceWarning: Maximum number of iteration reached before convergence. Consider increasing max_iter to improve the fit.\n",
      "  ConvergenceWarning)\n",
      "/usr/local/lib/python3.7/dist-packages/sklearn/linear_model/_stochastic_gradient.py:557: ConvergenceWarning: Maximum number of iteration reached before convergence. Consider increasing max_iter to improve the fit.\n",
      "  ConvergenceWarning)\n",
      "/usr/local/lib/python3.7/dist-packages/sklearn/linear_model/_stochastic_gradient.py:557: ConvergenceWarning: Maximum number of iteration reached before convergence. Consider increasing max_iter to improve the fit.\n",
      "  ConvergenceWarning)\n",
      "/usr/local/lib/python3.7/dist-packages/sklearn/linear_model/_stochastic_gradient.py:557: ConvergenceWarning: Maximum number of iteration reached before convergence. Consider increasing max_iter to improve the fit.\n",
      "  ConvergenceWarning)\n",
      "/usr/local/lib/python3.7/dist-packages/sklearn/linear_model/_stochastic_gradient.py:557: ConvergenceWarning: Maximum number of iteration reached before convergence. Consider increasing max_iter to improve the fit.\n",
      "  ConvergenceWarning)\n",
      "/usr/local/lib/python3.7/dist-packages/sklearn/linear_model/_stochastic_gradient.py:557: ConvergenceWarning: Maximum number of iteration reached before convergence. Consider increasing max_iter to improve the fit.\n",
      "  ConvergenceWarning)\n"
     ]
    },
    {
     "data": {
      "image/png": "[encoded data removed]",
      "text/plain": [
       "<Figure size 720x432 with 1 Axes>"
      ]
     },
     "metadata": {
      "needs_background": "light",
      "tags": []
     },
     "output_type": "display_data"
    }
   ],
   "source": [
    "error_rate_list=[]\n",
    "for i in range(1, model.max_iter+1):\n",
    "  model = Perceptron(alpha=0.01, max_iter=i)\n",
    "  model.fit(np.array(data_train), np.array(target_train))\n",
    "  predicted_values = model.predict(np.array(data_test))\n",
    "  error_rate_list.append(1-accuracy_score(target_test, predicted_values))\n",
    "\n",
    "plt.figure(figsize=(10,6))\n",
    "plt.plot(error_rate_list,color = 'blue',linestyle='dashed')\n",
    "plt.title('Error Rate vs. Epoch')\n",
    "plt.xlabel('Epoch')\n",
    "plt.ylabel('Error Rate')\n",
    "plt.show()"
   ]
  },
  {
   "cell_type": "code",
   "execution_count": 57,
   "metadata": {
    "colab": {
     "base_uri": "https://localhost:8080/",
     "height": 228
    },
    "id": "QT2v6jyjVN6M",
    "outputId": "cb8dd83d-b7da-49c2-d1ea-589e5a086554"
   },
   "outputs": [
    {
     "data": {
      "image/png": "[encoded data removed]",
      "text/plain": [
       "<Figure size 216x216 with 1 Axes>"
      ]
     },
     "metadata": {
      "needs_background": "light",
      "tags": []
     },
     "output_type": "display_data"
    }
   ],
   "source": [
    "# Real Label vs Predicted \n",
    "g = sns.FacetGrid(bin_iris_df, hue='target')\n",
    "g = g.map(plt.scatter, \"petal length (cm)\", \"petal width (cm)\")\n",
    "#g = g.add_legend()\n",
    "\n",
    "# decision boundary\n",
    "x = np.linspace(-1.5,1.5,100)\n",
    "y = (-model.coef_[0][0]*x -model.intercept_) / model.coef_[0][1]\n",
    "plt.plot(x, y, 'r--', label= 'decision boundary')\n",
    "plt.legend(bbox_to_anchor=(1.1, 1.05), title='Target Labels vs Decision Boundary')\n",
    "\n",
    "plt.show()"
   ]
  },
  {
   "cell_type": "markdown",
   "metadata": {
    "id": "TAD4yyfkbqBO"
   },
   "source": [
    "**T18.** Complete tasks **T14**, **T15** and **T16** but using the Perceptron Model implemented in scikit-learn."
   ]
  },
  {
   "cell_type": "code",
   "execution_count": 58,
   "metadata": {
    "id": "yb8Jl9ARbqBO"
   },
   "outputs": [],
   "source": [
    "std_iris_df = pd.DataFrame(std_iris, columns = ['petal length (cm)', 'petal width (cm)'])\n",
    "std_iris_df['target'] = irisDF['target']\n",
    "\n",
    "bin_iris_df = std_iris_df\n",
    "\n",
    "binarization = lambda x: 1 if x == 2 else 0 # Virginica (1) Non-virginica (0)\n",
    "\n",
    "bin_iris_df['target'] = bin_iris_df['target'].apply(binarization)\n",
    "\n",
    "data_train, data_test, target_train, target_test = train_test_split(bin_iris_df[['petal length (cm)', 'petal width (cm)']], \n",
    "                                                                    bin_iris_df['target'].to_numpy(), \n",
    "                                                                    test_size=0.3, \n",
    "                                                                    stratify=bin_iris_df['target'],\n",
    "                                                                    random_state=0)"
   ]
  },
  {
   "cell_type": "code",
   "execution_count": 59,
   "metadata": {
    "id": "lJ4cbHDAWgwR"
   },
   "outputs": [],
   "source": [
    "# Perceptron Model\n",
    "model = Perceptron(alpha=0.01, max_iter=50)\n",
    "model.fit(np.array(data_train), np.array(target_train))\n",
    "predicted_values = model.predict(np.array(data_test))"
   ]
  },
  {
   "cell_type": "code",
   "execution_count": 60,
   "metadata": {
    "colab": {
     "base_uri": "https://localhost:8080/"
    },
    "id": "oDTCoSNYWgy9",
    "outputId": "0dc0031e-2779-4e6f-e845-f058e78764ae"
   },
   "outputs": [
    {
     "data": {
      "text/plain": [
       "array([[26,  4],\n",
       "       [ 0, 15]])"
      ]
     },
     "execution_count": 60,
     "metadata": {
      "tags": []
     },
     "output_type": "execute_result"
    }
   ],
   "source": [
    "# Confussion Matrix\n",
    "confusion_matrix(target_test, predicted_values)"
   ]
  },
  {
   "cell_type": "code",
   "execution_count": 61,
   "metadata": {
    "colab": {
     "base_uri": "https://localhost:8080/"
    },
    "id": "_42gulfJWg1S",
    "outputId": "05f2b245-bd0e-4cd6-83b8-620b7ab0edbb"
   },
   "outputs": [
    {
     "data": {
      "text/plain": [
       "0.9111111111111111"
      ]
     },
     "execution_count": 61,
     "metadata": {
      "tags": []
     },
     "output_type": "execute_result"
    }
   ],
   "source": [
    "# Accuracy\n",
    "accuracy_score(target_test, predicted_values) "
   ]
  },
  {
   "cell_type": "code",
   "execution_count": 62,
   "metadata": {
    "colab": {
     "base_uri": "https://localhost:8080/"
    },
    "id": "PQKx7FE3Wg3f",
    "outputId": "1bdcfeb5-7095-4f8a-b400-ffdd16d3372b"
   },
   "outputs": [
    {
     "data": {
      "text/plain": [
       "array([[3.99680786, 3.68219097]])"
      ]
     },
     "execution_count": 62,
     "metadata": {
      "tags": []
     },
     "output_type": "execute_result"
    }
   ],
   "source": [
    "model.coef_"
   ]
  },
  {
   "cell_type": "code",
   "execution_count": 63,
   "metadata": {
    "colab": {
     "base_uri": "https://localhost:8080/"
    },
    "id": "D2RzeXSyWsQp",
    "outputId": "1b73cbca-b22d-4f55-cbbf-ca18edd05091"
   },
   "outputs": [
    {
     "data": {
      "text/plain": [
       "array([-4.])"
      ]
     },
     "execution_count": 63,
     "metadata": {
      "tags": []
     },
     "output_type": "execute_result"
    }
   ],
   "source": [
    "model.intercept_"
   ]
  },
  {
   "cell_type": "code",
   "execution_count": 64,
   "metadata": {
    "colab": {
     "base_uri": "https://localhost:8080/",
     "height": 805
    },
    "id": "atfHPJsWWsT1",
    "outputId": "f7d97e79-c2f7-41ad-9fc8-8b6dc9bb043b"
   },
   "outputs": [
    {
     "name": "stderr",
     "output_type": "stream",
     "text": [
      "/usr/local/lib/python3.7/dist-packages/sklearn/linear_model/_stochastic_gradient.py:557: ConvergenceWarning: Maximum number of iteration reached before convergence. Consider increasing max_iter to improve the fit.\n",
      "  ConvergenceWarning)\n",
      "/usr/local/lib/python3.7/dist-packages/sklearn/linear_model/_stochastic_gradient.py:557: ConvergenceWarning: Maximum number of iteration reached before convergence. Consider increasing max_iter to improve the fit.\n",
      "  ConvergenceWarning)\n",
      "/usr/local/lib/python3.7/dist-packages/sklearn/linear_model/_stochastic_gradient.py:557: ConvergenceWarning: Maximum number of iteration reached before convergence. Consider increasing max_iter to improve the fit.\n",
      "  ConvergenceWarning)\n",
      "/usr/local/lib/python3.7/dist-packages/sklearn/linear_model/_stochastic_gradient.py:557: ConvergenceWarning: Maximum number of iteration reached before convergence. Consider increasing max_iter to improve the fit.\n",
      "  ConvergenceWarning)\n",
      "/usr/local/lib/python3.7/dist-packages/sklearn/linear_model/_stochastic_gradient.py:557: ConvergenceWarning: Maximum number of iteration reached before convergence. Consider increasing max_iter to improve the fit.\n",
      "  ConvergenceWarning)\n",
      "/usr/local/lib/python3.7/dist-packages/sklearn/linear_model/_stochastic_gradient.py:557: ConvergenceWarning: Maximum number of iteration reached before convergence. Consider increasing max_iter to improve the fit.\n",
      "  ConvergenceWarning)\n",
      "/usr/local/lib/python3.7/dist-packages/sklearn/linear_model/_stochastic_gradient.py:557: ConvergenceWarning: Maximum number of iteration reached before convergence. Consider increasing max_iter to improve the fit.\n",
      "  ConvergenceWarning)\n",
      "/usr/local/lib/python3.7/dist-packages/sklearn/linear_model/_stochastic_gradient.py:557: ConvergenceWarning: Maximum number of iteration reached before convergence. Consider increasing max_iter to improve the fit.\n",
      "  ConvergenceWarning)\n",
      "/usr/local/lib/python3.7/dist-packages/sklearn/linear_model/_stochastic_gradient.py:557: ConvergenceWarning: Maximum number of iteration reached before convergence. Consider increasing max_iter to improve the fit.\n",
      "  ConvergenceWarning)\n",
      "/usr/local/lib/python3.7/dist-packages/sklearn/linear_model/_stochastic_gradient.py:557: ConvergenceWarning: Maximum number of iteration reached before convergence. Consider increasing max_iter to improve the fit.\n",
      "  ConvergenceWarning)\n",
      "/usr/local/lib/python3.7/dist-packages/sklearn/linear_model/_stochastic_gradient.py:557: ConvergenceWarning: Maximum number of iteration reached before convergence. Consider increasing max_iter to improve the fit.\n",
      "  ConvergenceWarning)\n"
     ]
    },
    {
     "data": {
      "image/png": "[encoded data removed]",
      "text/plain": [
       "<Figure size 720x432 with 1 Axes>"
      ]
     },
     "metadata": {
      "needs_background": "light",
      "tags": []
     },
     "output_type": "display_data"
    }
   ],
   "source": [
    "error_rate_list=[]\n",
    "for i in range(1, model.max_iter+1):\n",
    "  model = Perceptron(alpha=0.01, max_iter=i)\n",
    "  model.fit(np.array(data_train), np.array(target_train))\n",
    "  predicted_values = model.predict(np.array(data_test))\n",
    "  error_rate_list.append(1-accuracy_score(target_test, predicted_values))\n",
    "\n",
    "plt.figure(figsize=(10,6))\n",
    "plt.plot(error_rate_list,color = 'blue',linestyle='dashed')\n",
    "plt.title('Error Rate vs. Epoch')\n",
    "plt.xlabel('Epoch')\n",
    "plt.ylabel('Error Rate')\n",
    "plt.show()"
   ]
  },
  {
   "cell_type": "code",
   "execution_count": 65,
   "metadata": {
    "colab": {
     "base_uri": "https://localhost:8080/",
     "height": 228
    },
    "id": "n4cPjOTiWsV5",
    "outputId": "46913eb2-12ab-49a0-a698-e978042452df"
   },
   "outputs": [
    {
     "data": {
      "image/png": "[encoded data removed]",
      "text/plain": [
       "<Figure size 216x216 with 1 Axes>"
      ]
     },
     "metadata": {
      "needs_background": "light",
      "tags": []
     },
     "output_type": "display_data"
    }
   ],
   "source": [
    "# Real Label vs Predicted \n",
    "g = sns.FacetGrid(bin_iris_df, hue='target')\n",
    "g = g.map(plt.scatter, \"petal length (cm)\", \"petal width (cm)\")\n",
    "#g = g.add_legend()\n",
    "\n",
    "# decision boundary\n",
    "x = np.linspace(-1.5,1.5,100)\n",
    "y = (-model.coef_[0][0]*x -model.intercept_) / model.coef_[0][1]\n",
    "plt.plot(x, y, 'r--', label= 'decision boundary')\n",
    "plt.legend(bbox_to_anchor=(1.1, 1.05), title='Target Labels vs Decision Boundary')\n",
    "\n",
    "plt.show()"
   ]
  },
  {
   "cell_type": "markdown",
   "metadata": {
    "id": "vIdQIscqbqBO"
   },
   "source": [
    "## Additional Material\n",
    "\n",
    "[1] Deep Learning (PyTorch) from Udacity's Repository: https://github.com/udacity/deep-learning-v2-pytorch\n",
    "\n",
    "[2] How to use Learning Curves to Diagnose Machine Learning Model Performance: https://machinelearningmastery.com/learning-curves-for-diagnosing-machine-learning-model-performance/ "
   ]
  }
 ],
 "metadata": {
  "colab": {
   "collapsed_sections": [],
   "name": "A3.2 Perceptron.ipynb",
   "provenance": [],
   "toc_visible": true
  },
  "kernelspec": {
   "display_name": "Python 3",
   "language": "python",
   "name": "python3"
  },
  "language_info": {
   "codemirror_mode": {
    "name": "ipython",
    "version": 3
   },
   "file_extension": ".py",
   "mimetype": "text/x-python",
   "name": "python",
   "nbconvert_exporter": "python",
   "pygments_lexer": "ipython3",
   "version": "3.7.6"
  }
 },
 "nbformat": 4,
 "nbformat_minor": 1
}